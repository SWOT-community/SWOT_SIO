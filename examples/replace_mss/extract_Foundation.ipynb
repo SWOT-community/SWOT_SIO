{
 "cells": [
  {
   "cell_type": "markdown",
   "id": "10cc1a2b",
   "metadata": {},
   "source": [
    "### L3 products startup"
   ]
  },
  {
   "cell_type": "code",
   "execution_count": 1,
   "id": "204913f5",
   "metadata": {},
   "outputs": [],
   "source": [
    "import numpy as np\n",
    "import xarray as xr\n",
    "import os\n",
    "import cartopy.crs as ccrs\n",
    "import matplotlib.pyplot as plt"
   ]
  },
  {
   "cell_type": "markdown",
   "id": "5ac5cc6d",
   "metadata": {},
   "source": [
    "### extract passes over the Foundation Seamounts [-116/-110/-39/-35]"
   ]
  },
  {
   "cell_type": "markdown",
   "id": "7b3dd198-d74d-4432-9810-ce0425770c12",
   "metadata": {},
   "source": [
    "i = 1"
   ]
  },
  {
   "cell_type": "code",
   "execution_count": 2,
   "id": "c2824e44",
   "metadata": {},
   "outputs": [],
   "source": [
    "area = [-116+360, -110+360, -39, -35]"
   ]
  },
  {
   "cell_type": "code",
   "execution_count": 3,
   "id": "c3b092fb",
   "metadata": {},
   "outputs": [],
   "source": [
    "add_1day_basic = \"/cryosat2/SWOT/L3/data_L3_1day_basic/\"\n",
    "add_21day_basic = \"/cryosat2/SWOT/L3/data_L3_21day_basic/\"\n",
    "add_1day_expert = \"/cryosat2/SWOT/L3/data_L3_1day_expert/\"\n",
    "add_21day_expert = \"/cryosat2/SWOT/L3/data_L3_21day_expert/\"\n",
    "\n",
    "add_Foundation = \"./\""
   ]
  },
  {
   "cell_type": "code",
   "execution_count": 4,
   "id": "5c48fec0",
   "metadata": {},
   "outputs": [
    {
     "name": "stdout",
     "output_type": "stream",
     "text": [
      "843 843\n"
     ]
    }
   ],
   "source": [
    "list_dir = os.listdir(add_1day_basic)\n",
    "num_files = len(list_dir)\n",
    "\n",
    "list_dir_expert = os.listdir(add_1day_expert)\n",
    "num_files_expert = len(list_dir_expert)\n",
    "\n",
    "print(num_files, num_files_expert)"
   ]
  },
  {
   "cell_type": "code",
   "execution_count": 5,
   "id": "c84218b3",
   "metadata": {},
   "outputs": [
    {
     "name": "stdout",
     "output_type": "stream",
     "text": [
      "10\n",
      "SWOT_L3_LR_SSH_Basic_541_011_20230603T200517_20230603T205623_v0.1.nc\n",
      "25\n",
      "SWOT_L3_LR_SSH_Basic_541_026_20230604T085142_20230604T094247_v0.1.nc\n",
      "38\n",
      "SWOT_L3_LR_SSH_Basic_542_011_20230604T195555_20230604T204701_v0.1.nc\n",
      "49\n",
      "SWOT_L3_LR_SSH_Basic_542_026_20230605T084220_20230605T093325_v0.1.nc\n",
      "65\n",
      "SWOT_L3_LR_SSH_Basic_543_026_20230606T083258_20230606T092403_v0.1.nc\n",
      "78\n",
      "SWOT_L3_LR_SSH_Basic_544_011_20230606T193711_20230606T202816_v0.1.nc\n",
      "93\n",
      "SWOT_L3_LR_SSH_Basic_544_026_20230607T082336_20230607T091441_v0.1.nc\n",
      "105\n",
      "SWOT_L3_LR_SSH_Basic_545_011_20230607T192749_20230607T201854_v0.1.nc\n",
      "120\n",
      "SWOT_L3_LR_SSH_Basic_545_026_20230608T081414_20230608T090518_v0.1.nc\n",
      "133\n",
      "SWOT_L3_LR_SSH_Basic_546_011_20230608T191827_20230608T200932_v0.1.nc\n",
      "148\n",
      "SWOT_L3_LR_SSH_Basic_546_026_20230609T080452_20230609T085556_v0.1.nc\n",
      "161\n",
      "SWOT_L3_LR_SSH_Basic_547_011_20230609T190905_20230609T200010_v0.1.nc\n",
      "176\n",
      "SWOT_L3_LR_SSH_Basic_547_026_20230610T075529_20230610T084634_v0.1.nc\n",
      "189\n",
      "SWOT_L3_LR_SSH_Basic_548_011_20230610T185942_20230610T195048_v0.1.nc\n",
      "204\n",
      "SWOT_L3_LR_SSH_Basic_548_026_20230611T074607_20230611T083712_v0.1.nc\n",
      "217\n",
      "SWOT_L3_LR_SSH_Basic_549_011_20230611T185020_20230611T194125_v0.1.nc\n",
      "232\n",
      "SWOT_L3_LR_SSH_Basic_549_026_20230612T073645_20230612T082750_v0.1.nc\n",
      "245\n",
      "SWOT_L3_LR_SSH_Basic_550_011_20230612T184058_20230612T193203_v0.1.nc\n",
      "262\n",
      "SWOT_L3_LR_SSH_Basic_551_026_20230614T071800_20230614T080906_v0.1.nc\n",
      "274\n",
      "SWOT_L3_LR_SSH_Basic_552_011_20230614T182213_20230614T191318_v0.1.nc\n",
      "297\n",
      "SWOT_L3_LR_SSH_Basic_553_011_20230615T181251_20230615T190356_v0.1.nc\n",
      "312\n",
      "SWOT_L3_LR_SSH_Basic_553_026_20230616T065915_20230616T075021_v0.1.nc\n",
      "325\n",
      "SWOT_L3_LR_SSH_Basic_554_011_20230616T180328_20230616T185434_v0.1.nc\n",
      "336\n",
      "SWOT_L3_LR_SSH_Basic_554_026_20230617T064953_20230617T074059_v0.1.nc\n",
      "349\n",
      "SWOT_L3_LR_SSH_Basic_555_011_20230617T175406_20230617T184512_v0.1.nc\n",
      "364\n",
      "SWOT_L3_LR_SSH_Basic_555_026_20230618T064031_20230618T073137_v0.1.nc\n",
      "377\n",
      "SWOT_L3_LR_SSH_Basic_556_011_20230618T174445_20230618T183550_v0.1.nc\n",
      "392\n",
      "SWOT_L3_LR_SSH_Basic_556_026_20230619T063110_20230619T072215_v0.1.nc\n",
      "405\n",
      "SWOT_L3_LR_SSH_Basic_557_011_20230619T173523_20230619T182628_v0.1.nc\n",
      "420\n",
      "SWOT_L3_LR_SSH_Basic_557_026_20230620T062148_20230620T071253_v0.1.nc\n",
      "426\n",
      "SWOT_L3_LR_SSH_Basic_558_011_20230620T172601_20230620T181706_v0.1.nc\n",
      "444\n",
      "SWOT_L3_LR_SSH_Basic_559_011_20230621T171639_20230621T180744_v0.1.nc\n",
      "459\n",
      "SWOT_L3_LR_SSH_Basic_559_026_20230622T060304_20230622T065409_v0.1.nc\n",
      "470\n",
      "SWOT_L3_LR_SSH_Basic_560_011_20230622T170717_20230622T175822_v0.1.nc\n",
      "485\n",
      "SWOT_L3_LR_SSH_Basic_560_026_20230623T055342_20230623T064447_v0.1.nc\n",
      "497\n",
      "SWOT_L3_LR_SSH_Basic_561_011_20230623T165755_20230623T174900_v0.1.nc\n",
      "516\n",
      "SWOT_L3_LR_SSH_Basic_562_026_20230625T053458_20230625T062602_v0.1.nc\n",
      "529\n",
      "SWOT_L3_LR_SSH_Basic_563_011_20230625T163911_20230625T173016_v0.1.nc\n",
      "544\n",
      "SWOT_L3_LR_SSH_Basic_563_026_20230626T052536_20230626T061640_v0.1.nc\n",
      "557\n",
      "SWOT_L3_LR_SSH_Basic_564_011_20230626T162949_20230626T172054_v0.1.nc\n",
      "567\n",
      "SWOT_L3_LR_SSH_Basic_565_011_20230627T162026_20230627T171132_v0.1.nc\n",
      "581\n",
      "SWOT_L3_LR_SSH_Basic_565_026_20230628T050651_20230628T055756_v0.1.nc\n",
      "590\n",
      "SWOT_L3_LR_SSH_Basic_566_011_20230628T161104_20230628T170209_v0.1.nc\n",
      "602\n",
      "SWOT_L3_LR_SSH_Basic_566_026_20230629T045729_20230629T054834_v0.1.nc\n",
      "614\n",
      "SWOT_L3_LR_SSH_Basic_567_011_20230629T160142_20230629T165247_v0.1.nc\n",
      "628\n",
      "SWOT_L3_LR_SSH_Basic_567_026_20230630T044807_20230630T053912_v0.1.nc\n",
      "636\n",
      "SWOT_L3_LR_SSH_Basic_568_011_20230630T155220_20230630T164325_v0.1.nc\n",
      "654\n",
      "SWOT_L3_LR_SSH_Basic_569_011_20230701T154258_20230701T163403_v0.1.nc\n",
      "669\n",
      "SWOT_L3_LR_SSH_Basic_569_026_20230702T042923_20230702T052028_v0.1.nc\n",
      "682\n",
      "SWOT_L3_LR_SSH_Basic_570_011_20230702T153336_20230702T162441_v0.1.nc\n",
      "695\n",
      "SWOT_L3_LR_SSH_Basic_570_026_20230703T042001_20230703T051106_v0.1.nc\n",
      "708\n",
      "SWOT_L3_LR_SSH_Basic_571_011_20230703T152414_20230703T161519_v0.1.nc\n",
      "729\n",
      "SWOT_L3_LR_SSH_Basic_572_026_20230705T040117_20230705T045222_v0.1.nc\n",
      "757\n",
      "SWOT_L3_LR_SSH_Basic_574_026_20230707T034233_20230707T043337_v0.1.nc\n",
      "769\n",
      "SWOT_L3_LR_SSH_Basic_575_011_20230707T144646_20230707T153751_v0.1.nc\n",
      "793\n",
      "SWOT_L3_LR_SSH_Basic_576_026_20230709T032348_20230709T041453_v0.1.nc\n",
      "806\n",
      "SWOT_L3_LR_SSH_Basic_577_011_20230709T142801_20230709T151907_v0.1.nc\n",
      "821\n",
      "SWOT_L3_LR_SSH_Basic_577_026_20230710T031426_20230710T040531_v0.1.nc\n",
      "834\n",
      "SWOT_L3_LR_SSH_Basic_578_011_20230710T141839_20230710T150944_v0.1.nc\n"
     ]
    }
   ],
   "source": [
    "for i in range(num_files):\n",
    "    half_orbit_basic = os.path.join(add_1day_basic,list_dir[i])\n",
    "    ds_basic = xr.open_dataset(half_orbit_basic) \n",
    "    selection = ((ds_basic.longitude > area[0])&(ds_basic.longitude < area[1])&(ds_basic.latitude > area[2])&(ds_basic.latitude < area[3]))\n",
    "    index = np.transpose(selection.values.nonzero())\n",
    "    if len(index)>0:\n",
    "#         ds_area = ds_basic.where(selection, drop = True)\n",
    "        print (i)\n",
    "        print(list_dir[i])\n",
    "    "
   ]
  },
  {
   "cell_type": "markdown",
   "id": "ae97c707",
   "metadata": {},
   "source": [
    "### generate short nc files"
   ]
  },
  {
   "cell_type": "markdown",
   "id": "5fea9f95",
   "metadata": {},
   "source": [
    "Basic files"
   ]
  },
  {
   "cell_type": "code",
   "execution_count": 6,
   "id": "2d82e0df",
   "metadata": {},
   "outputs": [
    {
     "name": "stderr",
     "output_type": "stream",
     "text": [
      "/usr/local/lib/python3.11/site-packages/xarray/coding/times.py:618: RuntimeWarning: invalid value encountered in cast\n",
      "  int_num = np.asarray(num, dtype=np.int64)\n",
      "/var/folders/9d/qyypdys57ms__4dsnj3xgp0c0006y5/T/ipykernel_37069/1912753757.py:11: SerializationWarning: saving variable latitude with floating point data as an integer dtype without any _FillValue to use for NaNs\n",
      "  ds_area.to_netcdf(output_name)\n",
      "/var/folders/9d/qyypdys57ms__4dsnj3xgp0c0006y5/T/ipykernel_37069/1912753757.py:11: SerializationWarning: saving variable longitude with floating point data as an integer dtype without any _FillValue to use for NaNs\n",
      "  ds_area.to_netcdf(output_name)\n"
     ]
    },
    {
     "name": "stdout",
     "output_type": "stream",
     "text": [
      "10\n",
      "SWOT_L3_LR_SSH_Basic_541_011_20230603T200517_20230603T205623_v0.1.nc\n"
     ]
    },
    {
     "name": "stderr",
     "output_type": "stream",
     "text": [
      "/usr/local/lib/python3.11/site-packages/xarray/coding/times.py:618: RuntimeWarning: invalid value encountered in cast\n",
      "  int_num = np.asarray(num, dtype=np.int64)\n",
      "/var/folders/9d/qyypdys57ms__4dsnj3xgp0c0006y5/T/ipykernel_37069/1912753757.py:11: SerializationWarning: saving variable latitude with floating point data as an integer dtype without any _FillValue to use for NaNs\n",
      "  ds_area.to_netcdf(output_name)\n",
      "/var/folders/9d/qyypdys57ms__4dsnj3xgp0c0006y5/T/ipykernel_37069/1912753757.py:11: SerializationWarning: saving variable longitude with floating point data as an integer dtype without any _FillValue to use for NaNs\n",
      "  ds_area.to_netcdf(output_name)\n"
     ]
    },
    {
     "name": "stdout",
     "output_type": "stream",
     "text": [
      "25\n",
      "SWOT_L3_LR_SSH_Basic_541_026_20230604T085142_20230604T094247_v0.1.nc\n"
     ]
    },
    {
     "name": "stderr",
     "output_type": "stream",
     "text": [
      "/usr/local/lib/python3.11/site-packages/xarray/coding/times.py:618: RuntimeWarning: invalid value encountered in cast\n",
      "  int_num = np.asarray(num, dtype=np.int64)\n",
      "/var/folders/9d/qyypdys57ms__4dsnj3xgp0c0006y5/T/ipykernel_37069/1912753757.py:11: SerializationWarning: saving variable latitude with floating point data as an integer dtype without any _FillValue to use for NaNs\n",
      "  ds_area.to_netcdf(output_name)\n",
      "/var/folders/9d/qyypdys57ms__4dsnj3xgp0c0006y5/T/ipykernel_37069/1912753757.py:11: SerializationWarning: saving variable longitude with floating point data as an integer dtype without any _FillValue to use for NaNs\n",
      "  ds_area.to_netcdf(output_name)\n"
     ]
    },
    {
     "name": "stdout",
     "output_type": "stream",
     "text": [
      "38\n",
      "SWOT_L3_LR_SSH_Basic_542_011_20230604T195555_20230604T204701_v0.1.nc\n"
     ]
    },
    {
     "name": "stderr",
     "output_type": "stream",
     "text": [
      "/usr/local/lib/python3.11/site-packages/xarray/coding/times.py:618: RuntimeWarning: invalid value encountered in cast\n",
      "  int_num = np.asarray(num, dtype=np.int64)\n",
      "/var/folders/9d/qyypdys57ms__4dsnj3xgp0c0006y5/T/ipykernel_37069/1912753757.py:11: SerializationWarning: saving variable latitude with floating point data as an integer dtype without any _FillValue to use for NaNs\n",
      "  ds_area.to_netcdf(output_name)\n",
      "/var/folders/9d/qyypdys57ms__4dsnj3xgp0c0006y5/T/ipykernel_37069/1912753757.py:11: SerializationWarning: saving variable longitude with floating point data as an integer dtype without any _FillValue to use for NaNs\n",
      "  ds_area.to_netcdf(output_name)\n"
     ]
    },
    {
     "name": "stdout",
     "output_type": "stream",
     "text": [
      "49\n",
      "SWOT_L3_LR_SSH_Basic_542_026_20230605T084220_20230605T093325_v0.1.nc\n"
     ]
    },
    {
     "name": "stderr",
     "output_type": "stream",
     "text": [
      "/usr/local/lib/python3.11/site-packages/xarray/coding/times.py:618: RuntimeWarning: invalid value encountered in cast\n",
      "  int_num = np.asarray(num, dtype=np.int64)\n",
      "/var/folders/9d/qyypdys57ms__4dsnj3xgp0c0006y5/T/ipykernel_37069/1912753757.py:11: SerializationWarning: saving variable latitude with floating point data as an integer dtype without any _FillValue to use for NaNs\n",
      "  ds_area.to_netcdf(output_name)\n",
      "/var/folders/9d/qyypdys57ms__4dsnj3xgp0c0006y5/T/ipykernel_37069/1912753757.py:11: SerializationWarning: saving variable longitude with floating point data as an integer dtype without any _FillValue to use for NaNs\n",
      "  ds_area.to_netcdf(output_name)\n"
     ]
    },
    {
     "name": "stdout",
     "output_type": "stream",
     "text": [
      "65\n",
      "SWOT_L3_LR_SSH_Basic_543_026_20230606T083258_20230606T092403_v0.1.nc\n"
     ]
    },
    {
     "name": "stderr",
     "output_type": "stream",
     "text": [
      "/usr/local/lib/python3.11/site-packages/xarray/coding/times.py:618: RuntimeWarning: invalid value encountered in cast\n",
      "  int_num = np.asarray(num, dtype=np.int64)\n",
      "/var/folders/9d/qyypdys57ms__4dsnj3xgp0c0006y5/T/ipykernel_37069/1912753757.py:11: SerializationWarning: saving variable latitude with floating point data as an integer dtype without any _FillValue to use for NaNs\n",
      "  ds_area.to_netcdf(output_name)\n",
      "/var/folders/9d/qyypdys57ms__4dsnj3xgp0c0006y5/T/ipykernel_37069/1912753757.py:11: SerializationWarning: saving variable longitude with floating point data as an integer dtype without any _FillValue to use for NaNs\n",
      "  ds_area.to_netcdf(output_name)\n"
     ]
    },
    {
     "name": "stdout",
     "output_type": "stream",
     "text": [
      "78\n",
      "SWOT_L3_LR_SSH_Basic_544_011_20230606T193711_20230606T202816_v0.1.nc\n"
     ]
    },
    {
     "name": "stderr",
     "output_type": "stream",
     "text": [
      "/usr/local/lib/python3.11/site-packages/xarray/coding/times.py:618: RuntimeWarning: invalid value encountered in cast\n",
      "  int_num = np.asarray(num, dtype=np.int64)\n",
      "/var/folders/9d/qyypdys57ms__4dsnj3xgp0c0006y5/T/ipykernel_37069/1912753757.py:11: SerializationWarning: saving variable latitude with floating point data as an integer dtype without any _FillValue to use for NaNs\n",
      "  ds_area.to_netcdf(output_name)\n",
      "/var/folders/9d/qyypdys57ms__4dsnj3xgp0c0006y5/T/ipykernel_37069/1912753757.py:11: SerializationWarning: saving variable longitude with floating point data as an integer dtype without any _FillValue to use for NaNs\n",
      "  ds_area.to_netcdf(output_name)\n"
     ]
    },
    {
     "name": "stdout",
     "output_type": "stream",
     "text": [
      "93\n",
      "SWOT_L3_LR_SSH_Basic_544_026_20230607T082336_20230607T091441_v0.1.nc\n"
     ]
    },
    {
     "name": "stderr",
     "output_type": "stream",
     "text": [
      "/usr/local/lib/python3.11/site-packages/xarray/coding/times.py:618: RuntimeWarning: invalid value encountered in cast\n",
      "  int_num = np.asarray(num, dtype=np.int64)\n",
      "/var/folders/9d/qyypdys57ms__4dsnj3xgp0c0006y5/T/ipykernel_37069/1912753757.py:11: SerializationWarning: saving variable latitude with floating point data as an integer dtype without any _FillValue to use for NaNs\n",
      "  ds_area.to_netcdf(output_name)\n",
      "/var/folders/9d/qyypdys57ms__4dsnj3xgp0c0006y5/T/ipykernel_37069/1912753757.py:11: SerializationWarning: saving variable longitude with floating point data as an integer dtype without any _FillValue to use for NaNs\n",
      "  ds_area.to_netcdf(output_name)\n"
     ]
    },
    {
     "name": "stdout",
     "output_type": "stream",
     "text": [
      "105\n",
      "SWOT_L3_LR_SSH_Basic_545_011_20230607T192749_20230607T201854_v0.1.nc\n"
     ]
    },
    {
     "name": "stderr",
     "output_type": "stream",
     "text": [
      "/usr/local/lib/python3.11/site-packages/xarray/coding/times.py:618: RuntimeWarning: invalid value encountered in cast\n",
      "  int_num = np.asarray(num, dtype=np.int64)\n",
      "/var/folders/9d/qyypdys57ms__4dsnj3xgp0c0006y5/T/ipykernel_37069/1912753757.py:11: SerializationWarning: saving variable latitude with floating point data as an integer dtype without any _FillValue to use for NaNs\n",
      "  ds_area.to_netcdf(output_name)\n",
      "/var/folders/9d/qyypdys57ms__4dsnj3xgp0c0006y5/T/ipykernel_37069/1912753757.py:11: SerializationWarning: saving variable longitude with floating point data as an integer dtype without any _FillValue to use for NaNs\n",
      "  ds_area.to_netcdf(output_name)\n"
     ]
    },
    {
     "name": "stdout",
     "output_type": "stream",
     "text": [
      "120\n",
      "SWOT_L3_LR_SSH_Basic_545_026_20230608T081414_20230608T090518_v0.1.nc\n"
     ]
    },
    {
     "name": "stderr",
     "output_type": "stream",
     "text": [
      "/usr/local/lib/python3.11/site-packages/xarray/coding/times.py:618: RuntimeWarning: invalid value encountered in cast\n",
      "  int_num = np.asarray(num, dtype=np.int64)\n",
      "/var/folders/9d/qyypdys57ms__4dsnj3xgp0c0006y5/T/ipykernel_37069/1912753757.py:11: SerializationWarning: saving variable latitude with floating point data as an integer dtype without any _FillValue to use for NaNs\n",
      "  ds_area.to_netcdf(output_name)\n",
      "/var/folders/9d/qyypdys57ms__4dsnj3xgp0c0006y5/T/ipykernel_37069/1912753757.py:11: SerializationWarning: saving variable longitude with floating point data as an integer dtype without any _FillValue to use for NaNs\n",
      "  ds_area.to_netcdf(output_name)\n"
     ]
    },
    {
     "name": "stdout",
     "output_type": "stream",
     "text": [
      "133\n",
      "SWOT_L3_LR_SSH_Basic_546_011_20230608T191827_20230608T200932_v0.1.nc\n"
     ]
    },
    {
     "name": "stderr",
     "output_type": "stream",
     "text": [
      "/usr/local/lib/python3.11/site-packages/xarray/coding/times.py:618: RuntimeWarning: invalid value encountered in cast\n",
      "  int_num = np.asarray(num, dtype=np.int64)\n",
      "/var/folders/9d/qyypdys57ms__4dsnj3xgp0c0006y5/T/ipykernel_37069/1912753757.py:11: SerializationWarning: saving variable latitude with floating point data as an integer dtype without any _FillValue to use for NaNs\n",
      "  ds_area.to_netcdf(output_name)\n",
      "/var/folders/9d/qyypdys57ms__4dsnj3xgp0c0006y5/T/ipykernel_37069/1912753757.py:11: SerializationWarning: saving variable longitude with floating point data as an integer dtype without any _FillValue to use for NaNs\n",
      "  ds_area.to_netcdf(output_name)\n"
     ]
    },
    {
     "name": "stdout",
     "output_type": "stream",
     "text": [
      "148\n",
      "SWOT_L3_LR_SSH_Basic_546_026_20230609T080452_20230609T085556_v0.1.nc\n"
     ]
    },
    {
     "name": "stderr",
     "output_type": "stream",
     "text": [
      "/usr/local/lib/python3.11/site-packages/xarray/coding/times.py:618: RuntimeWarning: invalid value encountered in cast\n",
      "  int_num = np.asarray(num, dtype=np.int64)\n",
      "/var/folders/9d/qyypdys57ms__4dsnj3xgp0c0006y5/T/ipykernel_37069/1912753757.py:11: SerializationWarning: saving variable latitude with floating point data as an integer dtype without any _FillValue to use for NaNs\n",
      "  ds_area.to_netcdf(output_name)\n",
      "/var/folders/9d/qyypdys57ms__4dsnj3xgp0c0006y5/T/ipykernel_37069/1912753757.py:11: SerializationWarning: saving variable longitude with floating point data as an integer dtype without any _FillValue to use for NaNs\n",
      "  ds_area.to_netcdf(output_name)\n"
     ]
    },
    {
     "name": "stdout",
     "output_type": "stream",
     "text": [
      "161\n",
      "SWOT_L3_LR_SSH_Basic_547_011_20230609T190905_20230609T200010_v0.1.nc\n"
     ]
    },
    {
     "name": "stderr",
     "output_type": "stream",
     "text": [
      "/usr/local/lib/python3.11/site-packages/xarray/coding/times.py:618: RuntimeWarning: invalid value encountered in cast\n",
      "  int_num = np.asarray(num, dtype=np.int64)\n",
      "/var/folders/9d/qyypdys57ms__4dsnj3xgp0c0006y5/T/ipykernel_37069/1912753757.py:11: SerializationWarning: saving variable latitude with floating point data as an integer dtype without any _FillValue to use for NaNs\n",
      "  ds_area.to_netcdf(output_name)\n",
      "/var/folders/9d/qyypdys57ms__4dsnj3xgp0c0006y5/T/ipykernel_37069/1912753757.py:11: SerializationWarning: saving variable longitude with floating point data as an integer dtype without any _FillValue to use for NaNs\n",
      "  ds_area.to_netcdf(output_name)\n"
     ]
    },
    {
     "name": "stdout",
     "output_type": "stream",
     "text": [
      "176\n",
      "SWOT_L3_LR_SSH_Basic_547_026_20230610T075529_20230610T084634_v0.1.nc\n"
     ]
    },
    {
     "name": "stderr",
     "output_type": "stream",
     "text": [
      "/usr/local/lib/python3.11/site-packages/xarray/coding/times.py:618: RuntimeWarning: invalid value encountered in cast\n",
      "  int_num = np.asarray(num, dtype=np.int64)\n",
      "/var/folders/9d/qyypdys57ms__4dsnj3xgp0c0006y5/T/ipykernel_37069/1912753757.py:11: SerializationWarning: saving variable latitude with floating point data as an integer dtype without any _FillValue to use for NaNs\n",
      "  ds_area.to_netcdf(output_name)\n",
      "/var/folders/9d/qyypdys57ms__4dsnj3xgp0c0006y5/T/ipykernel_37069/1912753757.py:11: SerializationWarning: saving variable longitude with floating point data as an integer dtype without any _FillValue to use for NaNs\n",
      "  ds_area.to_netcdf(output_name)\n"
     ]
    },
    {
     "name": "stdout",
     "output_type": "stream",
     "text": [
      "189\n",
      "SWOT_L3_LR_SSH_Basic_548_011_20230610T185942_20230610T195048_v0.1.nc\n"
     ]
    },
    {
     "name": "stderr",
     "output_type": "stream",
     "text": [
      "/usr/local/lib/python3.11/site-packages/xarray/coding/times.py:618: RuntimeWarning: invalid value encountered in cast\n",
      "  int_num = np.asarray(num, dtype=np.int64)\n",
      "/var/folders/9d/qyypdys57ms__4dsnj3xgp0c0006y5/T/ipykernel_37069/1912753757.py:11: SerializationWarning: saving variable latitude with floating point data as an integer dtype without any _FillValue to use for NaNs\n",
      "  ds_area.to_netcdf(output_name)\n",
      "/var/folders/9d/qyypdys57ms__4dsnj3xgp0c0006y5/T/ipykernel_37069/1912753757.py:11: SerializationWarning: saving variable longitude with floating point data as an integer dtype without any _FillValue to use for NaNs\n",
      "  ds_area.to_netcdf(output_name)\n"
     ]
    },
    {
     "name": "stdout",
     "output_type": "stream",
     "text": [
      "204\n",
      "SWOT_L3_LR_SSH_Basic_548_026_20230611T074607_20230611T083712_v0.1.nc\n"
     ]
    },
    {
     "name": "stderr",
     "output_type": "stream",
     "text": [
      "/usr/local/lib/python3.11/site-packages/xarray/coding/times.py:618: RuntimeWarning: invalid value encountered in cast\n",
      "  int_num = np.asarray(num, dtype=np.int64)\n",
      "/var/folders/9d/qyypdys57ms__4dsnj3xgp0c0006y5/T/ipykernel_37069/1912753757.py:11: SerializationWarning: saving variable latitude with floating point data as an integer dtype without any _FillValue to use for NaNs\n",
      "  ds_area.to_netcdf(output_name)\n",
      "/var/folders/9d/qyypdys57ms__4dsnj3xgp0c0006y5/T/ipykernel_37069/1912753757.py:11: SerializationWarning: saving variable longitude with floating point data as an integer dtype without any _FillValue to use for NaNs\n",
      "  ds_area.to_netcdf(output_name)\n"
     ]
    },
    {
     "name": "stdout",
     "output_type": "stream",
     "text": [
      "217\n",
      "SWOT_L3_LR_SSH_Basic_549_011_20230611T185020_20230611T194125_v0.1.nc\n"
     ]
    },
    {
     "name": "stderr",
     "output_type": "stream",
     "text": [
      "/usr/local/lib/python3.11/site-packages/xarray/coding/times.py:618: RuntimeWarning: invalid value encountered in cast\n",
      "  int_num = np.asarray(num, dtype=np.int64)\n",
      "/var/folders/9d/qyypdys57ms__4dsnj3xgp0c0006y5/T/ipykernel_37069/1912753757.py:11: SerializationWarning: saving variable latitude with floating point data as an integer dtype without any _FillValue to use for NaNs\n",
      "  ds_area.to_netcdf(output_name)\n",
      "/var/folders/9d/qyypdys57ms__4dsnj3xgp0c0006y5/T/ipykernel_37069/1912753757.py:11: SerializationWarning: saving variable longitude with floating point data as an integer dtype without any _FillValue to use for NaNs\n",
      "  ds_area.to_netcdf(output_name)\n"
     ]
    },
    {
     "name": "stdout",
     "output_type": "stream",
     "text": [
      "232\n",
      "SWOT_L3_LR_SSH_Basic_549_026_20230612T073645_20230612T082750_v0.1.nc\n"
     ]
    },
    {
     "name": "stderr",
     "output_type": "stream",
     "text": [
      "/usr/local/lib/python3.11/site-packages/xarray/coding/times.py:618: RuntimeWarning: invalid value encountered in cast\n",
      "  int_num = np.asarray(num, dtype=np.int64)\n",
      "/var/folders/9d/qyypdys57ms__4dsnj3xgp0c0006y5/T/ipykernel_37069/1912753757.py:11: SerializationWarning: saving variable latitude with floating point data as an integer dtype without any _FillValue to use for NaNs\n",
      "  ds_area.to_netcdf(output_name)\n",
      "/var/folders/9d/qyypdys57ms__4dsnj3xgp0c0006y5/T/ipykernel_37069/1912753757.py:11: SerializationWarning: saving variable longitude with floating point data as an integer dtype without any _FillValue to use for NaNs\n",
      "  ds_area.to_netcdf(output_name)\n"
     ]
    },
    {
     "name": "stdout",
     "output_type": "stream",
     "text": [
      "245\n",
      "SWOT_L3_LR_SSH_Basic_550_011_20230612T184058_20230612T193203_v0.1.nc\n"
     ]
    },
    {
     "name": "stderr",
     "output_type": "stream",
     "text": [
      "/usr/local/lib/python3.11/site-packages/xarray/coding/times.py:618: RuntimeWarning: invalid value encountered in cast\n",
      "  int_num = np.asarray(num, dtype=np.int64)\n",
      "/var/folders/9d/qyypdys57ms__4dsnj3xgp0c0006y5/T/ipykernel_37069/1912753757.py:11: SerializationWarning: saving variable latitude with floating point data as an integer dtype without any _FillValue to use for NaNs\n",
      "  ds_area.to_netcdf(output_name)\n",
      "/var/folders/9d/qyypdys57ms__4dsnj3xgp0c0006y5/T/ipykernel_37069/1912753757.py:11: SerializationWarning: saving variable longitude with floating point data as an integer dtype without any _FillValue to use for NaNs\n",
      "  ds_area.to_netcdf(output_name)\n"
     ]
    },
    {
     "name": "stdout",
     "output_type": "stream",
     "text": [
      "262\n",
      "SWOT_L3_LR_SSH_Basic_551_026_20230614T071800_20230614T080906_v0.1.nc\n"
     ]
    },
    {
     "name": "stderr",
     "output_type": "stream",
     "text": [
      "/usr/local/lib/python3.11/site-packages/xarray/coding/times.py:618: RuntimeWarning: invalid value encountered in cast\n",
      "  int_num = np.asarray(num, dtype=np.int64)\n",
      "/var/folders/9d/qyypdys57ms__4dsnj3xgp0c0006y5/T/ipykernel_37069/1912753757.py:11: SerializationWarning: saving variable latitude with floating point data as an integer dtype without any _FillValue to use for NaNs\n",
      "  ds_area.to_netcdf(output_name)\n",
      "/var/folders/9d/qyypdys57ms__4dsnj3xgp0c0006y5/T/ipykernel_37069/1912753757.py:11: SerializationWarning: saving variable longitude with floating point data as an integer dtype without any _FillValue to use for NaNs\n",
      "  ds_area.to_netcdf(output_name)\n"
     ]
    },
    {
     "name": "stdout",
     "output_type": "stream",
     "text": [
      "274\n",
      "SWOT_L3_LR_SSH_Basic_552_011_20230614T182213_20230614T191318_v0.1.nc\n"
     ]
    },
    {
     "name": "stderr",
     "output_type": "stream",
     "text": [
      "/usr/local/lib/python3.11/site-packages/xarray/coding/times.py:618: RuntimeWarning: invalid value encountered in cast\n",
      "  int_num = np.asarray(num, dtype=np.int64)\n",
      "/var/folders/9d/qyypdys57ms__4dsnj3xgp0c0006y5/T/ipykernel_37069/1912753757.py:11: SerializationWarning: saving variable latitude with floating point data as an integer dtype without any _FillValue to use for NaNs\n",
      "  ds_area.to_netcdf(output_name)\n",
      "/var/folders/9d/qyypdys57ms__4dsnj3xgp0c0006y5/T/ipykernel_37069/1912753757.py:11: SerializationWarning: saving variable longitude with floating point data as an integer dtype without any _FillValue to use for NaNs\n",
      "  ds_area.to_netcdf(output_name)\n"
     ]
    },
    {
     "name": "stdout",
     "output_type": "stream",
     "text": [
      "297\n",
      "SWOT_L3_LR_SSH_Basic_553_011_20230615T181251_20230615T190356_v0.1.nc\n"
     ]
    },
    {
     "name": "stderr",
     "output_type": "stream",
     "text": [
      "/usr/local/lib/python3.11/site-packages/xarray/coding/times.py:618: RuntimeWarning: invalid value encountered in cast\n",
      "  int_num = np.asarray(num, dtype=np.int64)\n",
      "/var/folders/9d/qyypdys57ms__4dsnj3xgp0c0006y5/T/ipykernel_37069/1912753757.py:11: SerializationWarning: saving variable latitude with floating point data as an integer dtype without any _FillValue to use for NaNs\n",
      "  ds_area.to_netcdf(output_name)\n",
      "/var/folders/9d/qyypdys57ms__4dsnj3xgp0c0006y5/T/ipykernel_37069/1912753757.py:11: SerializationWarning: saving variable longitude with floating point data as an integer dtype without any _FillValue to use for NaNs\n",
      "  ds_area.to_netcdf(output_name)\n"
     ]
    },
    {
     "name": "stdout",
     "output_type": "stream",
     "text": [
      "312\n",
      "SWOT_L3_LR_SSH_Basic_553_026_20230616T065915_20230616T075021_v0.1.nc\n"
     ]
    },
    {
     "name": "stderr",
     "output_type": "stream",
     "text": [
      "/usr/local/lib/python3.11/site-packages/xarray/coding/times.py:618: RuntimeWarning: invalid value encountered in cast\n",
      "  int_num = np.asarray(num, dtype=np.int64)\n",
      "/var/folders/9d/qyypdys57ms__4dsnj3xgp0c0006y5/T/ipykernel_37069/1912753757.py:11: SerializationWarning: saving variable latitude with floating point data as an integer dtype without any _FillValue to use for NaNs\n",
      "  ds_area.to_netcdf(output_name)\n",
      "/var/folders/9d/qyypdys57ms__4dsnj3xgp0c0006y5/T/ipykernel_37069/1912753757.py:11: SerializationWarning: saving variable longitude with floating point data as an integer dtype without any _FillValue to use for NaNs\n",
      "  ds_area.to_netcdf(output_name)\n"
     ]
    },
    {
     "name": "stdout",
     "output_type": "stream",
     "text": [
      "325\n",
      "SWOT_L3_LR_SSH_Basic_554_011_20230616T180328_20230616T185434_v0.1.nc\n"
     ]
    },
    {
     "name": "stderr",
     "output_type": "stream",
     "text": [
      "/usr/local/lib/python3.11/site-packages/xarray/coding/times.py:618: RuntimeWarning: invalid value encountered in cast\n",
      "  int_num = np.asarray(num, dtype=np.int64)\n",
      "/var/folders/9d/qyypdys57ms__4dsnj3xgp0c0006y5/T/ipykernel_37069/1912753757.py:11: SerializationWarning: saving variable latitude with floating point data as an integer dtype without any _FillValue to use for NaNs\n",
      "  ds_area.to_netcdf(output_name)\n",
      "/var/folders/9d/qyypdys57ms__4dsnj3xgp0c0006y5/T/ipykernel_37069/1912753757.py:11: SerializationWarning: saving variable longitude with floating point data as an integer dtype without any _FillValue to use for NaNs\n",
      "  ds_area.to_netcdf(output_name)\n"
     ]
    },
    {
     "name": "stdout",
     "output_type": "stream",
     "text": [
      "336\n",
      "SWOT_L3_LR_SSH_Basic_554_026_20230617T064953_20230617T074059_v0.1.nc\n"
     ]
    },
    {
     "name": "stderr",
     "output_type": "stream",
     "text": [
      "/usr/local/lib/python3.11/site-packages/xarray/coding/times.py:618: RuntimeWarning: invalid value encountered in cast\n",
      "  int_num = np.asarray(num, dtype=np.int64)\n",
      "/var/folders/9d/qyypdys57ms__4dsnj3xgp0c0006y5/T/ipykernel_37069/1912753757.py:11: SerializationWarning: saving variable latitude with floating point data as an integer dtype without any _FillValue to use for NaNs\n",
      "  ds_area.to_netcdf(output_name)\n",
      "/var/folders/9d/qyypdys57ms__4dsnj3xgp0c0006y5/T/ipykernel_37069/1912753757.py:11: SerializationWarning: saving variable longitude with floating point data as an integer dtype without any _FillValue to use for NaNs\n",
      "  ds_area.to_netcdf(output_name)\n"
     ]
    },
    {
     "name": "stdout",
     "output_type": "stream",
     "text": [
      "349\n",
      "SWOT_L3_LR_SSH_Basic_555_011_20230617T175406_20230617T184512_v0.1.nc\n"
     ]
    },
    {
     "name": "stderr",
     "output_type": "stream",
     "text": [
      "/usr/local/lib/python3.11/site-packages/xarray/coding/times.py:618: RuntimeWarning: invalid value encountered in cast\n",
      "  int_num = np.asarray(num, dtype=np.int64)\n",
      "/var/folders/9d/qyypdys57ms__4dsnj3xgp0c0006y5/T/ipykernel_37069/1912753757.py:11: SerializationWarning: saving variable latitude with floating point data as an integer dtype without any _FillValue to use for NaNs\n",
      "  ds_area.to_netcdf(output_name)\n",
      "/var/folders/9d/qyypdys57ms__4dsnj3xgp0c0006y5/T/ipykernel_37069/1912753757.py:11: SerializationWarning: saving variable longitude with floating point data as an integer dtype without any _FillValue to use for NaNs\n",
      "  ds_area.to_netcdf(output_name)\n"
     ]
    },
    {
     "name": "stdout",
     "output_type": "stream",
     "text": [
      "364\n",
      "SWOT_L3_LR_SSH_Basic_555_026_20230618T064031_20230618T073137_v0.1.nc\n"
     ]
    },
    {
     "name": "stderr",
     "output_type": "stream",
     "text": [
      "/usr/local/lib/python3.11/site-packages/xarray/coding/times.py:618: RuntimeWarning: invalid value encountered in cast\n",
      "  int_num = np.asarray(num, dtype=np.int64)\n",
      "/var/folders/9d/qyypdys57ms__4dsnj3xgp0c0006y5/T/ipykernel_37069/1912753757.py:11: SerializationWarning: saving variable latitude with floating point data as an integer dtype without any _FillValue to use for NaNs\n",
      "  ds_area.to_netcdf(output_name)\n",
      "/var/folders/9d/qyypdys57ms__4dsnj3xgp0c0006y5/T/ipykernel_37069/1912753757.py:11: SerializationWarning: saving variable longitude with floating point data as an integer dtype without any _FillValue to use for NaNs\n",
      "  ds_area.to_netcdf(output_name)\n"
     ]
    },
    {
     "name": "stdout",
     "output_type": "stream",
     "text": [
      "377\n",
      "SWOT_L3_LR_SSH_Basic_556_011_20230618T174445_20230618T183550_v0.1.nc\n"
     ]
    },
    {
     "name": "stderr",
     "output_type": "stream",
     "text": [
      "/usr/local/lib/python3.11/site-packages/xarray/coding/times.py:618: RuntimeWarning: invalid value encountered in cast\n",
      "  int_num = np.asarray(num, dtype=np.int64)\n",
      "/var/folders/9d/qyypdys57ms__4dsnj3xgp0c0006y5/T/ipykernel_37069/1912753757.py:11: SerializationWarning: saving variable latitude with floating point data as an integer dtype without any _FillValue to use for NaNs\n",
      "  ds_area.to_netcdf(output_name)\n",
      "/var/folders/9d/qyypdys57ms__4dsnj3xgp0c0006y5/T/ipykernel_37069/1912753757.py:11: SerializationWarning: saving variable longitude with floating point data as an integer dtype without any _FillValue to use for NaNs\n",
      "  ds_area.to_netcdf(output_name)\n"
     ]
    },
    {
     "name": "stdout",
     "output_type": "stream",
     "text": [
      "392\n",
      "SWOT_L3_LR_SSH_Basic_556_026_20230619T063110_20230619T072215_v0.1.nc\n"
     ]
    },
    {
     "name": "stderr",
     "output_type": "stream",
     "text": [
      "/usr/local/lib/python3.11/site-packages/xarray/coding/times.py:618: RuntimeWarning: invalid value encountered in cast\n",
      "  int_num = np.asarray(num, dtype=np.int64)\n",
      "/var/folders/9d/qyypdys57ms__4dsnj3xgp0c0006y5/T/ipykernel_37069/1912753757.py:11: SerializationWarning: saving variable latitude with floating point data as an integer dtype without any _FillValue to use for NaNs\n",
      "  ds_area.to_netcdf(output_name)\n",
      "/var/folders/9d/qyypdys57ms__4dsnj3xgp0c0006y5/T/ipykernel_37069/1912753757.py:11: SerializationWarning: saving variable longitude with floating point data as an integer dtype without any _FillValue to use for NaNs\n",
      "  ds_area.to_netcdf(output_name)\n"
     ]
    },
    {
     "name": "stdout",
     "output_type": "stream",
     "text": [
      "405\n",
      "SWOT_L3_LR_SSH_Basic_557_011_20230619T173523_20230619T182628_v0.1.nc\n"
     ]
    },
    {
     "name": "stderr",
     "output_type": "stream",
     "text": [
      "/usr/local/lib/python3.11/site-packages/xarray/coding/times.py:618: RuntimeWarning: invalid value encountered in cast\n",
      "  int_num = np.asarray(num, dtype=np.int64)\n",
      "/var/folders/9d/qyypdys57ms__4dsnj3xgp0c0006y5/T/ipykernel_37069/1912753757.py:11: SerializationWarning: saving variable latitude with floating point data as an integer dtype without any _FillValue to use for NaNs\n",
      "  ds_area.to_netcdf(output_name)\n",
      "/var/folders/9d/qyypdys57ms__4dsnj3xgp0c0006y5/T/ipykernel_37069/1912753757.py:11: SerializationWarning: saving variable longitude with floating point data as an integer dtype without any _FillValue to use for NaNs\n",
      "  ds_area.to_netcdf(output_name)\n"
     ]
    },
    {
     "name": "stdout",
     "output_type": "stream",
     "text": [
      "420\n",
      "SWOT_L3_LR_SSH_Basic_557_026_20230620T062148_20230620T071253_v0.1.nc\n"
     ]
    },
    {
     "name": "stderr",
     "output_type": "stream",
     "text": [
      "/usr/local/lib/python3.11/site-packages/xarray/coding/times.py:618: RuntimeWarning: invalid value encountered in cast\n",
      "  int_num = np.asarray(num, dtype=np.int64)\n",
      "/var/folders/9d/qyypdys57ms__4dsnj3xgp0c0006y5/T/ipykernel_37069/1912753757.py:11: SerializationWarning: saving variable latitude with floating point data as an integer dtype without any _FillValue to use for NaNs\n",
      "  ds_area.to_netcdf(output_name)\n",
      "/var/folders/9d/qyypdys57ms__4dsnj3xgp0c0006y5/T/ipykernel_37069/1912753757.py:11: SerializationWarning: saving variable longitude with floating point data as an integer dtype without any _FillValue to use for NaNs\n",
      "  ds_area.to_netcdf(output_name)\n"
     ]
    },
    {
     "name": "stdout",
     "output_type": "stream",
     "text": [
      "426\n",
      "SWOT_L3_LR_SSH_Basic_558_011_20230620T172601_20230620T181706_v0.1.nc\n"
     ]
    },
    {
     "name": "stderr",
     "output_type": "stream",
     "text": [
      "/usr/local/lib/python3.11/site-packages/xarray/coding/times.py:618: RuntimeWarning: invalid value encountered in cast\n",
      "  int_num = np.asarray(num, dtype=np.int64)\n",
      "/var/folders/9d/qyypdys57ms__4dsnj3xgp0c0006y5/T/ipykernel_37069/1912753757.py:11: SerializationWarning: saving variable latitude with floating point data as an integer dtype without any _FillValue to use for NaNs\n",
      "  ds_area.to_netcdf(output_name)\n",
      "/var/folders/9d/qyypdys57ms__4dsnj3xgp0c0006y5/T/ipykernel_37069/1912753757.py:11: SerializationWarning: saving variable longitude with floating point data as an integer dtype without any _FillValue to use for NaNs\n",
      "  ds_area.to_netcdf(output_name)\n"
     ]
    },
    {
     "name": "stdout",
     "output_type": "stream",
     "text": [
      "444\n",
      "SWOT_L3_LR_SSH_Basic_559_011_20230621T171639_20230621T180744_v0.1.nc\n"
     ]
    },
    {
     "name": "stderr",
     "output_type": "stream",
     "text": [
      "/usr/local/lib/python3.11/site-packages/xarray/coding/times.py:618: RuntimeWarning: invalid value encountered in cast\n",
      "  int_num = np.asarray(num, dtype=np.int64)\n",
      "/var/folders/9d/qyypdys57ms__4dsnj3xgp0c0006y5/T/ipykernel_37069/1912753757.py:11: SerializationWarning: saving variable latitude with floating point data as an integer dtype without any _FillValue to use for NaNs\n",
      "  ds_area.to_netcdf(output_name)\n",
      "/var/folders/9d/qyypdys57ms__4dsnj3xgp0c0006y5/T/ipykernel_37069/1912753757.py:11: SerializationWarning: saving variable longitude with floating point data as an integer dtype without any _FillValue to use for NaNs\n",
      "  ds_area.to_netcdf(output_name)\n"
     ]
    },
    {
     "name": "stdout",
     "output_type": "stream",
     "text": [
      "459\n",
      "SWOT_L3_LR_SSH_Basic_559_026_20230622T060304_20230622T065409_v0.1.nc\n"
     ]
    },
    {
     "name": "stderr",
     "output_type": "stream",
     "text": [
      "/usr/local/lib/python3.11/site-packages/xarray/coding/times.py:618: RuntimeWarning: invalid value encountered in cast\n",
      "  int_num = np.asarray(num, dtype=np.int64)\n",
      "/var/folders/9d/qyypdys57ms__4dsnj3xgp0c0006y5/T/ipykernel_37069/1912753757.py:11: SerializationWarning: saving variable latitude with floating point data as an integer dtype without any _FillValue to use for NaNs\n",
      "  ds_area.to_netcdf(output_name)\n",
      "/var/folders/9d/qyypdys57ms__4dsnj3xgp0c0006y5/T/ipykernel_37069/1912753757.py:11: SerializationWarning: saving variable longitude with floating point data as an integer dtype without any _FillValue to use for NaNs\n",
      "  ds_area.to_netcdf(output_name)\n"
     ]
    },
    {
     "name": "stdout",
     "output_type": "stream",
     "text": [
      "470\n",
      "SWOT_L3_LR_SSH_Basic_560_011_20230622T170717_20230622T175822_v0.1.nc\n"
     ]
    },
    {
     "name": "stderr",
     "output_type": "stream",
     "text": [
      "/usr/local/lib/python3.11/site-packages/xarray/coding/times.py:618: RuntimeWarning: invalid value encountered in cast\n",
      "  int_num = np.asarray(num, dtype=np.int64)\n",
      "/var/folders/9d/qyypdys57ms__4dsnj3xgp0c0006y5/T/ipykernel_37069/1912753757.py:11: SerializationWarning: saving variable latitude with floating point data as an integer dtype without any _FillValue to use for NaNs\n",
      "  ds_area.to_netcdf(output_name)\n",
      "/var/folders/9d/qyypdys57ms__4dsnj3xgp0c0006y5/T/ipykernel_37069/1912753757.py:11: SerializationWarning: saving variable longitude with floating point data as an integer dtype without any _FillValue to use for NaNs\n",
      "  ds_area.to_netcdf(output_name)\n"
     ]
    },
    {
     "name": "stdout",
     "output_type": "stream",
     "text": [
      "485\n",
      "SWOT_L3_LR_SSH_Basic_560_026_20230623T055342_20230623T064447_v0.1.nc\n"
     ]
    },
    {
     "name": "stderr",
     "output_type": "stream",
     "text": [
      "/usr/local/lib/python3.11/site-packages/xarray/coding/times.py:618: RuntimeWarning: invalid value encountered in cast\n",
      "  int_num = np.asarray(num, dtype=np.int64)\n",
      "/var/folders/9d/qyypdys57ms__4dsnj3xgp0c0006y5/T/ipykernel_37069/1912753757.py:11: SerializationWarning: saving variable latitude with floating point data as an integer dtype without any _FillValue to use for NaNs\n",
      "  ds_area.to_netcdf(output_name)\n",
      "/var/folders/9d/qyypdys57ms__4dsnj3xgp0c0006y5/T/ipykernel_37069/1912753757.py:11: SerializationWarning: saving variable longitude with floating point data as an integer dtype without any _FillValue to use for NaNs\n",
      "  ds_area.to_netcdf(output_name)\n"
     ]
    },
    {
     "name": "stdout",
     "output_type": "stream",
     "text": [
      "497\n",
      "SWOT_L3_LR_SSH_Basic_561_011_20230623T165755_20230623T174900_v0.1.nc\n"
     ]
    },
    {
     "name": "stderr",
     "output_type": "stream",
     "text": [
      "/usr/local/lib/python3.11/site-packages/xarray/coding/times.py:618: RuntimeWarning: invalid value encountered in cast\n",
      "  int_num = np.asarray(num, dtype=np.int64)\n",
      "/var/folders/9d/qyypdys57ms__4dsnj3xgp0c0006y5/T/ipykernel_37069/1912753757.py:11: SerializationWarning: saving variable latitude with floating point data as an integer dtype without any _FillValue to use for NaNs\n",
      "  ds_area.to_netcdf(output_name)\n",
      "/var/folders/9d/qyypdys57ms__4dsnj3xgp0c0006y5/T/ipykernel_37069/1912753757.py:11: SerializationWarning: saving variable longitude with floating point data as an integer dtype without any _FillValue to use for NaNs\n",
      "  ds_area.to_netcdf(output_name)\n"
     ]
    },
    {
     "name": "stdout",
     "output_type": "stream",
     "text": [
      "516\n",
      "SWOT_L3_LR_SSH_Basic_562_026_20230625T053458_20230625T062602_v0.1.nc\n"
     ]
    },
    {
     "name": "stderr",
     "output_type": "stream",
     "text": [
      "/usr/local/lib/python3.11/site-packages/xarray/coding/times.py:618: RuntimeWarning: invalid value encountered in cast\n",
      "  int_num = np.asarray(num, dtype=np.int64)\n",
      "/var/folders/9d/qyypdys57ms__4dsnj3xgp0c0006y5/T/ipykernel_37069/1912753757.py:11: SerializationWarning: saving variable latitude with floating point data as an integer dtype without any _FillValue to use for NaNs\n",
      "  ds_area.to_netcdf(output_name)\n",
      "/var/folders/9d/qyypdys57ms__4dsnj3xgp0c0006y5/T/ipykernel_37069/1912753757.py:11: SerializationWarning: saving variable longitude with floating point data as an integer dtype without any _FillValue to use for NaNs\n",
      "  ds_area.to_netcdf(output_name)\n"
     ]
    },
    {
     "name": "stdout",
     "output_type": "stream",
     "text": [
      "529\n",
      "SWOT_L3_LR_SSH_Basic_563_011_20230625T163911_20230625T173016_v0.1.nc\n"
     ]
    },
    {
     "name": "stderr",
     "output_type": "stream",
     "text": [
      "/usr/local/lib/python3.11/site-packages/xarray/coding/times.py:618: RuntimeWarning: invalid value encountered in cast\n",
      "  int_num = np.asarray(num, dtype=np.int64)\n",
      "/var/folders/9d/qyypdys57ms__4dsnj3xgp0c0006y5/T/ipykernel_37069/1912753757.py:11: SerializationWarning: saving variable latitude with floating point data as an integer dtype without any _FillValue to use for NaNs\n",
      "  ds_area.to_netcdf(output_name)\n",
      "/var/folders/9d/qyypdys57ms__4dsnj3xgp0c0006y5/T/ipykernel_37069/1912753757.py:11: SerializationWarning: saving variable longitude with floating point data as an integer dtype without any _FillValue to use for NaNs\n",
      "  ds_area.to_netcdf(output_name)\n"
     ]
    },
    {
     "name": "stdout",
     "output_type": "stream",
     "text": [
      "544\n",
      "SWOT_L3_LR_SSH_Basic_563_026_20230626T052536_20230626T061640_v0.1.nc\n"
     ]
    },
    {
     "name": "stderr",
     "output_type": "stream",
     "text": [
      "/usr/local/lib/python3.11/site-packages/xarray/coding/times.py:618: RuntimeWarning: invalid value encountered in cast\n",
      "  int_num = np.asarray(num, dtype=np.int64)\n",
      "/var/folders/9d/qyypdys57ms__4dsnj3xgp0c0006y5/T/ipykernel_37069/1912753757.py:11: SerializationWarning: saving variable latitude with floating point data as an integer dtype without any _FillValue to use for NaNs\n",
      "  ds_area.to_netcdf(output_name)\n",
      "/var/folders/9d/qyypdys57ms__4dsnj3xgp0c0006y5/T/ipykernel_37069/1912753757.py:11: SerializationWarning: saving variable longitude with floating point data as an integer dtype without any _FillValue to use for NaNs\n",
      "  ds_area.to_netcdf(output_name)\n"
     ]
    },
    {
     "name": "stdout",
     "output_type": "stream",
     "text": [
      "557\n",
      "SWOT_L3_LR_SSH_Basic_564_011_20230626T162949_20230626T172054_v0.1.nc\n"
     ]
    },
    {
     "name": "stderr",
     "output_type": "stream",
     "text": [
      "/usr/local/lib/python3.11/site-packages/xarray/coding/times.py:618: RuntimeWarning: invalid value encountered in cast\n",
      "  int_num = np.asarray(num, dtype=np.int64)\n",
      "/var/folders/9d/qyypdys57ms__4dsnj3xgp0c0006y5/T/ipykernel_37069/1912753757.py:11: SerializationWarning: saving variable latitude with floating point data as an integer dtype without any _FillValue to use for NaNs\n",
      "  ds_area.to_netcdf(output_name)\n",
      "/var/folders/9d/qyypdys57ms__4dsnj3xgp0c0006y5/T/ipykernel_37069/1912753757.py:11: SerializationWarning: saving variable longitude with floating point data as an integer dtype without any _FillValue to use for NaNs\n",
      "  ds_area.to_netcdf(output_name)\n"
     ]
    },
    {
     "name": "stdout",
     "output_type": "stream",
     "text": [
      "567\n",
      "SWOT_L3_LR_SSH_Basic_565_011_20230627T162026_20230627T171132_v0.1.nc\n"
     ]
    },
    {
     "name": "stderr",
     "output_type": "stream",
     "text": [
      "/usr/local/lib/python3.11/site-packages/xarray/coding/times.py:618: RuntimeWarning: invalid value encountered in cast\n",
      "  int_num = np.asarray(num, dtype=np.int64)\n",
      "/var/folders/9d/qyypdys57ms__4dsnj3xgp0c0006y5/T/ipykernel_37069/1912753757.py:11: SerializationWarning: saving variable latitude with floating point data as an integer dtype without any _FillValue to use for NaNs\n",
      "  ds_area.to_netcdf(output_name)\n",
      "/var/folders/9d/qyypdys57ms__4dsnj3xgp0c0006y5/T/ipykernel_37069/1912753757.py:11: SerializationWarning: saving variable longitude with floating point data as an integer dtype without any _FillValue to use for NaNs\n",
      "  ds_area.to_netcdf(output_name)\n"
     ]
    },
    {
     "name": "stdout",
     "output_type": "stream",
     "text": [
      "581\n",
      "SWOT_L3_LR_SSH_Basic_565_026_20230628T050651_20230628T055756_v0.1.nc\n"
     ]
    },
    {
     "name": "stderr",
     "output_type": "stream",
     "text": [
      "/usr/local/lib/python3.11/site-packages/xarray/coding/times.py:618: RuntimeWarning: invalid value encountered in cast\n",
      "  int_num = np.asarray(num, dtype=np.int64)\n",
      "/var/folders/9d/qyypdys57ms__4dsnj3xgp0c0006y5/T/ipykernel_37069/1912753757.py:11: SerializationWarning: saving variable latitude with floating point data as an integer dtype without any _FillValue to use for NaNs\n",
      "  ds_area.to_netcdf(output_name)\n",
      "/var/folders/9d/qyypdys57ms__4dsnj3xgp0c0006y5/T/ipykernel_37069/1912753757.py:11: SerializationWarning: saving variable longitude with floating point data as an integer dtype without any _FillValue to use for NaNs\n",
      "  ds_area.to_netcdf(output_name)\n"
     ]
    },
    {
     "name": "stdout",
     "output_type": "stream",
     "text": [
      "590\n",
      "SWOT_L3_LR_SSH_Basic_566_011_20230628T161104_20230628T170209_v0.1.nc\n"
     ]
    },
    {
     "name": "stderr",
     "output_type": "stream",
     "text": [
      "/usr/local/lib/python3.11/site-packages/xarray/coding/times.py:618: RuntimeWarning: invalid value encountered in cast\n",
      "  int_num = np.asarray(num, dtype=np.int64)\n",
      "/var/folders/9d/qyypdys57ms__4dsnj3xgp0c0006y5/T/ipykernel_37069/1912753757.py:11: SerializationWarning: saving variable latitude with floating point data as an integer dtype without any _FillValue to use for NaNs\n",
      "  ds_area.to_netcdf(output_name)\n",
      "/var/folders/9d/qyypdys57ms__4dsnj3xgp0c0006y5/T/ipykernel_37069/1912753757.py:11: SerializationWarning: saving variable longitude with floating point data as an integer dtype without any _FillValue to use for NaNs\n",
      "  ds_area.to_netcdf(output_name)\n"
     ]
    },
    {
     "name": "stdout",
     "output_type": "stream",
     "text": [
      "602\n",
      "SWOT_L3_LR_SSH_Basic_566_026_20230629T045729_20230629T054834_v0.1.nc\n"
     ]
    },
    {
     "name": "stderr",
     "output_type": "stream",
     "text": [
      "/usr/local/lib/python3.11/site-packages/xarray/coding/times.py:618: RuntimeWarning: invalid value encountered in cast\n",
      "  int_num = np.asarray(num, dtype=np.int64)\n",
      "/var/folders/9d/qyypdys57ms__4dsnj3xgp0c0006y5/T/ipykernel_37069/1912753757.py:11: SerializationWarning: saving variable latitude with floating point data as an integer dtype without any _FillValue to use for NaNs\n",
      "  ds_area.to_netcdf(output_name)\n",
      "/var/folders/9d/qyypdys57ms__4dsnj3xgp0c0006y5/T/ipykernel_37069/1912753757.py:11: SerializationWarning: saving variable longitude with floating point data as an integer dtype without any _FillValue to use for NaNs\n",
      "  ds_area.to_netcdf(output_name)\n"
     ]
    },
    {
     "name": "stdout",
     "output_type": "stream",
     "text": [
      "614\n",
      "SWOT_L3_LR_SSH_Basic_567_011_20230629T160142_20230629T165247_v0.1.nc\n"
     ]
    },
    {
     "name": "stderr",
     "output_type": "stream",
     "text": [
      "/usr/local/lib/python3.11/site-packages/xarray/coding/times.py:618: RuntimeWarning: invalid value encountered in cast\n",
      "  int_num = np.asarray(num, dtype=np.int64)\n",
      "/var/folders/9d/qyypdys57ms__4dsnj3xgp0c0006y5/T/ipykernel_37069/1912753757.py:11: SerializationWarning: saving variable latitude with floating point data as an integer dtype without any _FillValue to use for NaNs\n",
      "  ds_area.to_netcdf(output_name)\n",
      "/var/folders/9d/qyypdys57ms__4dsnj3xgp0c0006y5/T/ipykernel_37069/1912753757.py:11: SerializationWarning: saving variable longitude with floating point data as an integer dtype without any _FillValue to use for NaNs\n",
      "  ds_area.to_netcdf(output_name)\n"
     ]
    },
    {
     "name": "stdout",
     "output_type": "stream",
     "text": [
      "628\n",
      "SWOT_L3_LR_SSH_Basic_567_026_20230630T044807_20230630T053912_v0.1.nc\n"
     ]
    },
    {
     "name": "stderr",
     "output_type": "stream",
     "text": [
      "/usr/local/lib/python3.11/site-packages/xarray/coding/times.py:618: RuntimeWarning: invalid value encountered in cast\n",
      "  int_num = np.asarray(num, dtype=np.int64)\n",
      "/var/folders/9d/qyypdys57ms__4dsnj3xgp0c0006y5/T/ipykernel_37069/1912753757.py:11: SerializationWarning: saving variable latitude with floating point data as an integer dtype without any _FillValue to use for NaNs\n",
      "  ds_area.to_netcdf(output_name)\n",
      "/var/folders/9d/qyypdys57ms__4dsnj3xgp0c0006y5/T/ipykernel_37069/1912753757.py:11: SerializationWarning: saving variable longitude with floating point data as an integer dtype without any _FillValue to use for NaNs\n",
      "  ds_area.to_netcdf(output_name)\n"
     ]
    },
    {
     "name": "stdout",
     "output_type": "stream",
     "text": [
      "636\n",
      "SWOT_L3_LR_SSH_Basic_568_011_20230630T155220_20230630T164325_v0.1.nc\n"
     ]
    },
    {
     "name": "stderr",
     "output_type": "stream",
     "text": [
      "/usr/local/lib/python3.11/site-packages/xarray/coding/times.py:618: RuntimeWarning: invalid value encountered in cast\n",
      "  int_num = np.asarray(num, dtype=np.int64)\n",
      "/var/folders/9d/qyypdys57ms__4dsnj3xgp0c0006y5/T/ipykernel_37069/1912753757.py:11: SerializationWarning: saving variable latitude with floating point data as an integer dtype without any _FillValue to use for NaNs\n",
      "  ds_area.to_netcdf(output_name)\n",
      "/var/folders/9d/qyypdys57ms__4dsnj3xgp0c0006y5/T/ipykernel_37069/1912753757.py:11: SerializationWarning: saving variable longitude with floating point data as an integer dtype without any _FillValue to use for NaNs\n",
      "  ds_area.to_netcdf(output_name)\n"
     ]
    },
    {
     "name": "stdout",
     "output_type": "stream",
     "text": [
      "654\n",
      "SWOT_L3_LR_SSH_Basic_569_011_20230701T154258_20230701T163403_v0.1.nc\n"
     ]
    },
    {
     "name": "stderr",
     "output_type": "stream",
     "text": [
      "/usr/local/lib/python3.11/site-packages/xarray/coding/times.py:618: RuntimeWarning: invalid value encountered in cast\n",
      "  int_num = np.asarray(num, dtype=np.int64)\n",
      "/var/folders/9d/qyypdys57ms__4dsnj3xgp0c0006y5/T/ipykernel_37069/1912753757.py:11: SerializationWarning: saving variable latitude with floating point data as an integer dtype without any _FillValue to use for NaNs\n",
      "  ds_area.to_netcdf(output_name)\n",
      "/var/folders/9d/qyypdys57ms__4dsnj3xgp0c0006y5/T/ipykernel_37069/1912753757.py:11: SerializationWarning: saving variable longitude with floating point data as an integer dtype without any _FillValue to use for NaNs\n",
      "  ds_area.to_netcdf(output_name)\n"
     ]
    },
    {
     "name": "stdout",
     "output_type": "stream",
     "text": [
      "669\n",
      "SWOT_L3_LR_SSH_Basic_569_026_20230702T042923_20230702T052028_v0.1.nc\n"
     ]
    },
    {
     "name": "stderr",
     "output_type": "stream",
     "text": [
      "/usr/local/lib/python3.11/site-packages/xarray/coding/times.py:618: RuntimeWarning: invalid value encountered in cast\n",
      "  int_num = np.asarray(num, dtype=np.int64)\n",
      "/var/folders/9d/qyypdys57ms__4dsnj3xgp0c0006y5/T/ipykernel_37069/1912753757.py:11: SerializationWarning: saving variable latitude with floating point data as an integer dtype without any _FillValue to use for NaNs\n",
      "  ds_area.to_netcdf(output_name)\n",
      "/var/folders/9d/qyypdys57ms__4dsnj3xgp0c0006y5/T/ipykernel_37069/1912753757.py:11: SerializationWarning: saving variable longitude with floating point data as an integer dtype without any _FillValue to use for NaNs\n",
      "  ds_area.to_netcdf(output_name)\n"
     ]
    },
    {
     "name": "stdout",
     "output_type": "stream",
     "text": [
      "682\n",
      "SWOT_L3_LR_SSH_Basic_570_011_20230702T153336_20230702T162441_v0.1.nc\n"
     ]
    },
    {
     "name": "stderr",
     "output_type": "stream",
     "text": [
      "/usr/local/lib/python3.11/site-packages/xarray/coding/times.py:618: RuntimeWarning: invalid value encountered in cast\n",
      "  int_num = np.asarray(num, dtype=np.int64)\n",
      "/var/folders/9d/qyypdys57ms__4dsnj3xgp0c0006y5/T/ipykernel_37069/1912753757.py:11: SerializationWarning: saving variable latitude with floating point data as an integer dtype without any _FillValue to use for NaNs\n",
      "  ds_area.to_netcdf(output_name)\n",
      "/var/folders/9d/qyypdys57ms__4dsnj3xgp0c0006y5/T/ipykernel_37069/1912753757.py:11: SerializationWarning: saving variable longitude with floating point data as an integer dtype without any _FillValue to use for NaNs\n",
      "  ds_area.to_netcdf(output_name)\n"
     ]
    },
    {
     "name": "stdout",
     "output_type": "stream",
     "text": [
      "695\n",
      "SWOT_L3_LR_SSH_Basic_570_026_20230703T042001_20230703T051106_v0.1.nc\n"
     ]
    },
    {
     "name": "stderr",
     "output_type": "stream",
     "text": [
      "/usr/local/lib/python3.11/site-packages/xarray/coding/times.py:618: RuntimeWarning: invalid value encountered in cast\n",
      "  int_num = np.asarray(num, dtype=np.int64)\n",
      "/var/folders/9d/qyypdys57ms__4dsnj3xgp0c0006y5/T/ipykernel_37069/1912753757.py:11: SerializationWarning: saving variable latitude with floating point data as an integer dtype without any _FillValue to use for NaNs\n",
      "  ds_area.to_netcdf(output_name)\n",
      "/var/folders/9d/qyypdys57ms__4dsnj3xgp0c0006y5/T/ipykernel_37069/1912753757.py:11: SerializationWarning: saving variable longitude with floating point data as an integer dtype without any _FillValue to use for NaNs\n",
      "  ds_area.to_netcdf(output_name)\n"
     ]
    },
    {
     "name": "stdout",
     "output_type": "stream",
     "text": [
      "708\n",
      "SWOT_L3_LR_SSH_Basic_571_011_20230703T152414_20230703T161519_v0.1.nc\n"
     ]
    },
    {
     "name": "stderr",
     "output_type": "stream",
     "text": [
      "/usr/local/lib/python3.11/site-packages/xarray/coding/times.py:618: RuntimeWarning: invalid value encountered in cast\n",
      "  int_num = np.asarray(num, dtype=np.int64)\n",
      "/var/folders/9d/qyypdys57ms__4dsnj3xgp0c0006y5/T/ipykernel_37069/1912753757.py:11: SerializationWarning: saving variable latitude with floating point data as an integer dtype without any _FillValue to use for NaNs\n",
      "  ds_area.to_netcdf(output_name)\n",
      "/var/folders/9d/qyypdys57ms__4dsnj3xgp0c0006y5/T/ipykernel_37069/1912753757.py:11: SerializationWarning: saving variable longitude with floating point data as an integer dtype without any _FillValue to use for NaNs\n",
      "  ds_area.to_netcdf(output_name)\n"
     ]
    },
    {
     "name": "stdout",
     "output_type": "stream",
     "text": [
      "729\n",
      "SWOT_L3_LR_SSH_Basic_572_026_20230705T040117_20230705T045222_v0.1.nc\n"
     ]
    },
    {
     "name": "stderr",
     "output_type": "stream",
     "text": [
      "/usr/local/lib/python3.11/site-packages/xarray/coding/times.py:618: RuntimeWarning: invalid value encountered in cast\n",
      "  int_num = np.asarray(num, dtype=np.int64)\n",
      "/var/folders/9d/qyypdys57ms__4dsnj3xgp0c0006y5/T/ipykernel_37069/1912753757.py:11: SerializationWarning: saving variable latitude with floating point data as an integer dtype without any _FillValue to use for NaNs\n",
      "  ds_area.to_netcdf(output_name)\n",
      "/var/folders/9d/qyypdys57ms__4dsnj3xgp0c0006y5/T/ipykernel_37069/1912753757.py:11: SerializationWarning: saving variable longitude with floating point data as an integer dtype without any _FillValue to use for NaNs\n",
      "  ds_area.to_netcdf(output_name)\n"
     ]
    },
    {
     "name": "stdout",
     "output_type": "stream",
     "text": [
      "757\n",
      "SWOT_L3_LR_SSH_Basic_574_026_20230707T034233_20230707T043337_v0.1.nc\n"
     ]
    },
    {
     "name": "stderr",
     "output_type": "stream",
     "text": [
      "/usr/local/lib/python3.11/site-packages/xarray/coding/times.py:618: RuntimeWarning: invalid value encountered in cast\n",
      "  int_num = np.asarray(num, dtype=np.int64)\n",
      "/var/folders/9d/qyypdys57ms__4dsnj3xgp0c0006y5/T/ipykernel_37069/1912753757.py:11: SerializationWarning: saving variable latitude with floating point data as an integer dtype without any _FillValue to use for NaNs\n",
      "  ds_area.to_netcdf(output_name)\n",
      "/var/folders/9d/qyypdys57ms__4dsnj3xgp0c0006y5/T/ipykernel_37069/1912753757.py:11: SerializationWarning: saving variable longitude with floating point data as an integer dtype without any _FillValue to use for NaNs\n",
      "  ds_area.to_netcdf(output_name)\n"
     ]
    },
    {
     "name": "stdout",
     "output_type": "stream",
     "text": [
      "769\n",
      "SWOT_L3_LR_SSH_Basic_575_011_20230707T144646_20230707T153751_v0.1.nc\n"
     ]
    },
    {
     "name": "stderr",
     "output_type": "stream",
     "text": [
      "/usr/local/lib/python3.11/site-packages/xarray/coding/times.py:618: RuntimeWarning: invalid value encountered in cast\n",
      "  int_num = np.asarray(num, dtype=np.int64)\n",
      "/var/folders/9d/qyypdys57ms__4dsnj3xgp0c0006y5/T/ipykernel_37069/1912753757.py:11: SerializationWarning: saving variable latitude with floating point data as an integer dtype without any _FillValue to use for NaNs\n",
      "  ds_area.to_netcdf(output_name)\n",
      "/var/folders/9d/qyypdys57ms__4dsnj3xgp0c0006y5/T/ipykernel_37069/1912753757.py:11: SerializationWarning: saving variable longitude with floating point data as an integer dtype without any _FillValue to use for NaNs\n",
      "  ds_area.to_netcdf(output_name)\n"
     ]
    },
    {
     "name": "stdout",
     "output_type": "stream",
     "text": [
      "793\n",
      "SWOT_L3_LR_SSH_Basic_576_026_20230709T032348_20230709T041453_v0.1.nc\n"
     ]
    },
    {
     "name": "stderr",
     "output_type": "stream",
     "text": [
      "/usr/local/lib/python3.11/site-packages/xarray/coding/times.py:618: RuntimeWarning: invalid value encountered in cast\n",
      "  int_num = np.asarray(num, dtype=np.int64)\n",
      "/var/folders/9d/qyypdys57ms__4dsnj3xgp0c0006y5/T/ipykernel_37069/1912753757.py:11: SerializationWarning: saving variable latitude with floating point data as an integer dtype without any _FillValue to use for NaNs\n",
      "  ds_area.to_netcdf(output_name)\n",
      "/var/folders/9d/qyypdys57ms__4dsnj3xgp0c0006y5/T/ipykernel_37069/1912753757.py:11: SerializationWarning: saving variable longitude with floating point data as an integer dtype without any _FillValue to use for NaNs\n",
      "  ds_area.to_netcdf(output_name)\n"
     ]
    },
    {
     "name": "stdout",
     "output_type": "stream",
     "text": [
      "806\n",
      "SWOT_L3_LR_SSH_Basic_577_011_20230709T142801_20230709T151907_v0.1.nc\n"
     ]
    },
    {
     "name": "stderr",
     "output_type": "stream",
     "text": [
      "/usr/local/lib/python3.11/site-packages/xarray/coding/times.py:618: RuntimeWarning: invalid value encountered in cast\n",
      "  int_num = np.asarray(num, dtype=np.int64)\n",
      "/var/folders/9d/qyypdys57ms__4dsnj3xgp0c0006y5/T/ipykernel_37069/1912753757.py:11: SerializationWarning: saving variable latitude with floating point data as an integer dtype without any _FillValue to use for NaNs\n",
      "  ds_area.to_netcdf(output_name)\n",
      "/var/folders/9d/qyypdys57ms__4dsnj3xgp0c0006y5/T/ipykernel_37069/1912753757.py:11: SerializationWarning: saving variable longitude with floating point data as an integer dtype without any _FillValue to use for NaNs\n",
      "  ds_area.to_netcdf(output_name)\n"
     ]
    },
    {
     "name": "stdout",
     "output_type": "stream",
     "text": [
      "821\n",
      "SWOT_L3_LR_SSH_Basic_577_026_20230710T031426_20230710T040531_v0.1.nc\n"
     ]
    },
    {
     "name": "stderr",
     "output_type": "stream",
     "text": [
      "/usr/local/lib/python3.11/site-packages/xarray/coding/times.py:618: RuntimeWarning: invalid value encountered in cast\n",
      "  int_num = np.asarray(num, dtype=np.int64)\n",
      "/var/folders/9d/qyypdys57ms__4dsnj3xgp0c0006y5/T/ipykernel_37069/1912753757.py:11: SerializationWarning: saving variable latitude with floating point data as an integer dtype without any _FillValue to use for NaNs\n",
      "  ds_area.to_netcdf(output_name)\n",
      "/var/folders/9d/qyypdys57ms__4dsnj3xgp0c0006y5/T/ipykernel_37069/1912753757.py:11: SerializationWarning: saving variable longitude with floating point data as an integer dtype without any _FillValue to use for NaNs\n",
      "  ds_area.to_netcdf(output_name)\n"
     ]
    },
    {
     "name": "stdout",
     "output_type": "stream",
     "text": [
      "834\n",
      "SWOT_L3_LR_SSH_Basic_578_011_20230710T141839_20230710T150944_v0.1.nc\n"
     ]
    }
   ],
   "source": [
    "for i in range(num_files):\n",
    "    half_orbit_basic = os.path.join(add_1day_basic,list_dir[i])\n",
    "    ds_basic = xr.open_dataset(half_orbit_basic) \n",
    "    selection = ((ds_basic.longitude > area[0])&(ds_basic.longitude < area[1])&(ds_basic.latitude > area[2])&(ds_basic.latitude < area[3]))\n",
    "    index = np.transpose(selection.values.nonzero())\n",
    "    if len(index)>0:\n",
    "        cycle_num = list_dir[i][21:24]\n",
    "        pass_num =  list_dir[i][25:28]\n",
    "        ds_area = ds_basic.where(selection, drop = True)\n",
    "        output_name = \"\".join([add_Foundation, 'Foundation_Basic_',cycle_num, '_', pass_num, '.nc'])\n",
    "        ds_area.to_netcdf(output_name)\n",
    "        print (i)\n",
    "        print(list_dir[i])"
   ]
  },
  {
   "cell_type": "markdown",
   "id": "2c83886f",
   "metadata": {},
   "source": [
    "Expert files"
   ]
  },
  {
   "cell_type": "code",
   "execution_count": 7,
   "id": "9d51dd4d",
   "metadata": {},
   "outputs": [
    {
     "name": "stderr",
     "output_type": "stream",
     "text": [
      "/usr/local/lib/python3.11/site-packages/xarray/coding/times.py:618: RuntimeWarning: invalid value encountered in cast\n",
      "  int_num = np.asarray(num, dtype=np.int64)\n",
      "/var/folders/9d/qyypdys57ms__4dsnj3xgp0c0006y5/T/ipykernel_37069/1612894569.py:11: SerializationWarning: saving variable latitude with floating point data as an integer dtype without any _FillValue to use for NaNs\n",
      "  ds_area.to_netcdf(output_name)\n",
      "/var/folders/9d/qyypdys57ms__4dsnj3xgp0c0006y5/T/ipykernel_37069/1612894569.py:11: SerializationWarning: saving variable longitude with floating point data as an integer dtype without any _FillValue to use for NaNs\n",
      "  ds_area.to_netcdf(output_name)\n"
     ]
    },
    {
     "name": "stdout",
     "output_type": "stream",
     "text": [
      "10\n",
      "SWOT_L3_LR_SSH_Expert_541_011_20230603T200517_20230603T205623_v0.1.nc\n"
     ]
    },
    {
     "name": "stderr",
     "output_type": "stream",
     "text": [
      "/usr/local/lib/python3.11/site-packages/xarray/coding/times.py:618: RuntimeWarning: invalid value encountered in cast\n",
      "  int_num = np.asarray(num, dtype=np.int64)\n",
      "/var/folders/9d/qyypdys57ms__4dsnj3xgp0c0006y5/T/ipykernel_37069/1612894569.py:11: SerializationWarning: saving variable latitude with floating point data as an integer dtype without any _FillValue to use for NaNs\n",
      "  ds_area.to_netcdf(output_name)\n",
      "/var/folders/9d/qyypdys57ms__4dsnj3xgp0c0006y5/T/ipykernel_37069/1612894569.py:11: SerializationWarning: saving variable longitude with floating point data as an integer dtype without any _FillValue to use for NaNs\n",
      "  ds_area.to_netcdf(output_name)\n"
     ]
    },
    {
     "name": "stdout",
     "output_type": "stream",
     "text": [
      "25\n",
      "SWOT_L3_LR_SSH_Expert_541_026_20230604T085142_20230604T094247_v0.1.nc\n"
     ]
    },
    {
     "name": "stderr",
     "output_type": "stream",
     "text": [
      "/usr/local/lib/python3.11/site-packages/xarray/coding/times.py:618: RuntimeWarning: invalid value encountered in cast\n",
      "  int_num = np.asarray(num, dtype=np.int64)\n",
      "/var/folders/9d/qyypdys57ms__4dsnj3xgp0c0006y5/T/ipykernel_37069/1612894569.py:11: SerializationWarning: saving variable latitude with floating point data as an integer dtype without any _FillValue to use for NaNs\n",
      "  ds_area.to_netcdf(output_name)\n",
      "/var/folders/9d/qyypdys57ms__4dsnj3xgp0c0006y5/T/ipykernel_37069/1612894569.py:11: SerializationWarning: saving variable longitude with floating point data as an integer dtype without any _FillValue to use for NaNs\n",
      "  ds_area.to_netcdf(output_name)\n"
     ]
    },
    {
     "name": "stdout",
     "output_type": "stream",
     "text": [
      "38\n",
      "SWOT_L3_LR_SSH_Expert_542_011_20230604T195555_20230604T204701_v0.1.nc\n"
     ]
    },
    {
     "name": "stderr",
     "output_type": "stream",
     "text": [
      "/usr/local/lib/python3.11/site-packages/xarray/coding/times.py:618: RuntimeWarning: invalid value encountered in cast\n",
      "  int_num = np.asarray(num, dtype=np.int64)\n",
      "/var/folders/9d/qyypdys57ms__4dsnj3xgp0c0006y5/T/ipykernel_37069/1612894569.py:11: SerializationWarning: saving variable latitude with floating point data as an integer dtype without any _FillValue to use for NaNs\n",
      "  ds_area.to_netcdf(output_name)\n",
      "/var/folders/9d/qyypdys57ms__4dsnj3xgp0c0006y5/T/ipykernel_37069/1612894569.py:11: SerializationWarning: saving variable longitude with floating point data as an integer dtype without any _FillValue to use for NaNs\n",
      "  ds_area.to_netcdf(output_name)\n"
     ]
    },
    {
     "name": "stdout",
     "output_type": "stream",
     "text": [
      "49\n",
      "SWOT_L3_LR_SSH_Expert_542_026_20230605T084220_20230605T093325_v0.1.nc\n"
     ]
    },
    {
     "name": "stderr",
     "output_type": "stream",
     "text": [
      "/usr/local/lib/python3.11/site-packages/xarray/coding/times.py:618: RuntimeWarning: invalid value encountered in cast\n",
      "  int_num = np.asarray(num, dtype=np.int64)\n",
      "/var/folders/9d/qyypdys57ms__4dsnj3xgp0c0006y5/T/ipykernel_37069/1612894569.py:11: SerializationWarning: saving variable latitude with floating point data as an integer dtype without any _FillValue to use for NaNs\n",
      "  ds_area.to_netcdf(output_name)\n",
      "/var/folders/9d/qyypdys57ms__4dsnj3xgp0c0006y5/T/ipykernel_37069/1612894569.py:11: SerializationWarning: saving variable longitude with floating point data as an integer dtype without any _FillValue to use for NaNs\n",
      "  ds_area.to_netcdf(output_name)\n"
     ]
    },
    {
     "name": "stdout",
     "output_type": "stream",
     "text": [
      "65\n",
      "SWOT_L3_LR_SSH_Expert_543_026_20230606T083258_20230606T092403_v0.1.nc\n"
     ]
    },
    {
     "name": "stderr",
     "output_type": "stream",
     "text": [
      "/usr/local/lib/python3.11/site-packages/xarray/coding/times.py:618: RuntimeWarning: invalid value encountered in cast\n",
      "  int_num = np.asarray(num, dtype=np.int64)\n",
      "/var/folders/9d/qyypdys57ms__4dsnj3xgp0c0006y5/T/ipykernel_37069/1612894569.py:11: SerializationWarning: saving variable latitude with floating point data as an integer dtype without any _FillValue to use for NaNs\n",
      "  ds_area.to_netcdf(output_name)\n",
      "/var/folders/9d/qyypdys57ms__4dsnj3xgp0c0006y5/T/ipykernel_37069/1612894569.py:11: SerializationWarning: saving variable longitude with floating point data as an integer dtype without any _FillValue to use for NaNs\n",
      "  ds_area.to_netcdf(output_name)\n"
     ]
    },
    {
     "name": "stdout",
     "output_type": "stream",
     "text": [
      "78\n",
      "SWOT_L3_LR_SSH_Expert_544_011_20230606T193711_20230606T202816_v0.1.nc\n"
     ]
    },
    {
     "name": "stderr",
     "output_type": "stream",
     "text": [
      "/usr/local/lib/python3.11/site-packages/xarray/coding/times.py:618: RuntimeWarning: invalid value encountered in cast\n",
      "  int_num = np.asarray(num, dtype=np.int64)\n",
      "/var/folders/9d/qyypdys57ms__4dsnj3xgp0c0006y5/T/ipykernel_37069/1612894569.py:11: SerializationWarning: saving variable latitude with floating point data as an integer dtype without any _FillValue to use for NaNs\n",
      "  ds_area.to_netcdf(output_name)\n",
      "/var/folders/9d/qyypdys57ms__4dsnj3xgp0c0006y5/T/ipykernel_37069/1612894569.py:11: SerializationWarning: saving variable longitude with floating point data as an integer dtype without any _FillValue to use for NaNs\n",
      "  ds_area.to_netcdf(output_name)\n"
     ]
    },
    {
     "name": "stdout",
     "output_type": "stream",
     "text": [
      "93\n",
      "SWOT_L3_LR_SSH_Expert_544_026_20230607T082336_20230607T091441_v0.1.nc\n"
     ]
    },
    {
     "name": "stderr",
     "output_type": "stream",
     "text": [
      "/usr/local/lib/python3.11/site-packages/xarray/coding/times.py:618: RuntimeWarning: invalid value encountered in cast\n",
      "  int_num = np.asarray(num, dtype=np.int64)\n",
      "/var/folders/9d/qyypdys57ms__4dsnj3xgp0c0006y5/T/ipykernel_37069/1612894569.py:11: SerializationWarning: saving variable latitude with floating point data as an integer dtype without any _FillValue to use for NaNs\n",
      "  ds_area.to_netcdf(output_name)\n",
      "/var/folders/9d/qyypdys57ms__4dsnj3xgp0c0006y5/T/ipykernel_37069/1612894569.py:11: SerializationWarning: saving variable longitude with floating point data as an integer dtype without any _FillValue to use for NaNs\n",
      "  ds_area.to_netcdf(output_name)\n"
     ]
    },
    {
     "name": "stdout",
     "output_type": "stream",
     "text": [
      "105\n",
      "SWOT_L3_LR_SSH_Expert_545_011_20230607T192749_20230607T201854_v0.1.nc\n"
     ]
    },
    {
     "name": "stderr",
     "output_type": "stream",
     "text": [
      "/usr/local/lib/python3.11/site-packages/xarray/coding/times.py:618: RuntimeWarning: invalid value encountered in cast\n",
      "  int_num = np.asarray(num, dtype=np.int64)\n",
      "/var/folders/9d/qyypdys57ms__4dsnj3xgp0c0006y5/T/ipykernel_37069/1612894569.py:11: SerializationWarning: saving variable latitude with floating point data as an integer dtype without any _FillValue to use for NaNs\n",
      "  ds_area.to_netcdf(output_name)\n",
      "/var/folders/9d/qyypdys57ms__4dsnj3xgp0c0006y5/T/ipykernel_37069/1612894569.py:11: SerializationWarning: saving variable longitude with floating point data as an integer dtype without any _FillValue to use for NaNs\n",
      "  ds_area.to_netcdf(output_name)\n"
     ]
    },
    {
     "name": "stdout",
     "output_type": "stream",
     "text": [
      "120\n",
      "SWOT_L3_LR_SSH_Expert_545_026_20230608T081414_20230608T090518_v0.1.nc\n"
     ]
    },
    {
     "name": "stderr",
     "output_type": "stream",
     "text": [
      "/usr/local/lib/python3.11/site-packages/xarray/coding/times.py:618: RuntimeWarning: invalid value encountered in cast\n",
      "  int_num = np.asarray(num, dtype=np.int64)\n",
      "/var/folders/9d/qyypdys57ms__4dsnj3xgp0c0006y5/T/ipykernel_37069/1612894569.py:11: SerializationWarning: saving variable latitude with floating point data as an integer dtype without any _FillValue to use for NaNs\n",
      "  ds_area.to_netcdf(output_name)\n",
      "/var/folders/9d/qyypdys57ms__4dsnj3xgp0c0006y5/T/ipykernel_37069/1612894569.py:11: SerializationWarning: saving variable longitude with floating point data as an integer dtype without any _FillValue to use for NaNs\n",
      "  ds_area.to_netcdf(output_name)\n"
     ]
    },
    {
     "name": "stdout",
     "output_type": "stream",
     "text": [
      "133\n",
      "SWOT_L3_LR_SSH_Expert_546_011_20230608T191827_20230608T200932_v0.1.nc\n"
     ]
    },
    {
     "name": "stderr",
     "output_type": "stream",
     "text": [
      "/usr/local/lib/python3.11/site-packages/xarray/coding/times.py:618: RuntimeWarning: invalid value encountered in cast\n",
      "  int_num = np.asarray(num, dtype=np.int64)\n",
      "/var/folders/9d/qyypdys57ms__4dsnj3xgp0c0006y5/T/ipykernel_37069/1612894569.py:11: SerializationWarning: saving variable latitude with floating point data as an integer dtype without any _FillValue to use for NaNs\n",
      "  ds_area.to_netcdf(output_name)\n",
      "/var/folders/9d/qyypdys57ms__4dsnj3xgp0c0006y5/T/ipykernel_37069/1612894569.py:11: SerializationWarning: saving variable longitude with floating point data as an integer dtype without any _FillValue to use for NaNs\n",
      "  ds_area.to_netcdf(output_name)\n"
     ]
    },
    {
     "name": "stdout",
     "output_type": "stream",
     "text": [
      "148\n",
      "SWOT_L3_LR_SSH_Expert_546_026_20230609T080452_20230609T085556_v0.1.nc\n"
     ]
    },
    {
     "name": "stderr",
     "output_type": "stream",
     "text": [
      "/usr/local/lib/python3.11/site-packages/xarray/coding/times.py:618: RuntimeWarning: invalid value encountered in cast\n",
      "  int_num = np.asarray(num, dtype=np.int64)\n",
      "/var/folders/9d/qyypdys57ms__4dsnj3xgp0c0006y5/T/ipykernel_37069/1612894569.py:11: SerializationWarning: saving variable latitude with floating point data as an integer dtype without any _FillValue to use for NaNs\n",
      "  ds_area.to_netcdf(output_name)\n",
      "/var/folders/9d/qyypdys57ms__4dsnj3xgp0c0006y5/T/ipykernel_37069/1612894569.py:11: SerializationWarning: saving variable longitude with floating point data as an integer dtype without any _FillValue to use for NaNs\n",
      "  ds_area.to_netcdf(output_name)\n"
     ]
    },
    {
     "name": "stdout",
     "output_type": "stream",
     "text": [
      "161\n",
      "SWOT_L3_LR_SSH_Expert_547_011_20230609T190905_20230609T200010_v0.1.nc\n"
     ]
    },
    {
     "name": "stderr",
     "output_type": "stream",
     "text": [
      "/usr/local/lib/python3.11/site-packages/xarray/coding/times.py:618: RuntimeWarning: invalid value encountered in cast\n",
      "  int_num = np.asarray(num, dtype=np.int64)\n",
      "/var/folders/9d/qyypdys57ms__4dsnj3xgp0c0006y5/T/ipykernel_37069/1612894569.py:11: SerializationWarning: saving variable latitude with floating point data as an integer dtype without any _FillValue to use for NaNs\n",
      "  ds_area.to_netcdf(output_name)\n",
      "/var/folders/9d/qyypdys57ms__4dsnj3xgp0c0006y5/T/ipykernel_37069/1612894569.py:11: SerializationWarning: saving variable longitude with floating point data as an integer dtype without any _FillValue to use for NaNs\n",
      "  ds_area.to_netcdf(output_name)\n"
     ]
    },
    {
     "name": "stdout",
     "output_type": "stream",
     "text": [
      "176\n",
      "SWOT_L3_LR_SSH_Expert_547_026_20230610T075529_20230610T084634_v0.1.nc\n"
     ]
    },
    {
     "name": "stderr",
     "output_type": "stream",
     "text": [
      "/usr/local/lib/python3.11/site-packages/xarray/coding/times.py:618: RuntimeWarning: invalid value encountered in cast\n",
      "  int_num = np.asarray(num, dtype=np.int64)\n",
      "/var/folders/9d/qyypdys57ms__4dsnj3xgp0c0006y5/T/ipykernel_37069/1612894569.py:11: SerializationWarning: saving variable latitude with floating point data as an integer dtype without any _FillValue to use for NaNs\n",
      "  ds_area.to_netcdf(output_name)\n",
      "/var/folders/9d/qyypdys57ms__4dsnj3xgp0c0006y5/T/ipykernel_37069/1612894569.py:11: SerializationWarning: saving variable longitude with floating point data as an integer dtype without any _FillValue to use for NaNs\n",
      "  ds_area.to_netcdf(output_name)\n"
     ]
    },
    {
     "name": "stdout",
     "output_type": "stream",
     "text": [
      "189\n",
      "SWOT_L3_LR_SSH_Expert_548_011_20230610T185942_20230610T195048_v0.1.nc\n"
     ]
    },
    {
     "name": "stderr",
     "output_type": "stream",
     "text": [
      "/usr/local/lib/python3.11/site-packages/xarray/coding/times.py:618: RuntimeWarning: invalid value encountered in cast\n",
      "  int_num = np.asarray(num, dtype=np.int64)\n",
      "/var/folders/9d/qyypdys57ms__4dsnj3xgp0c0006y5/T/ipykernel_37069/1612894569.py:11: SerializationWarning: saving variable latitude with floating point data as an integer dtype without any _FillValue to use for NaNs\n",
      "  ds_area.to_netcdf(output_name)\n",
      "/var/folders/9d/qyypdys57ms__4dsnj3xgp0c0006y5/T/ipykernel_37069/1612894569.py:11: SerializationWarning: saving variable longitude with floating point data as an integer dtype without any _FillValue to use for NaNs\n",
      "  ds_area.to_netcdf(output_name)\n"
     ]
    },
    {
     "name": "stdout",
     "output_type": "stream",
     "text": [
      "204\n",
      "SWOT_L3_LR_SSH_Expert_548_026_20230611T074607_20230611T083712_v0.1.nc\n"
     ]
    },
    {
     "name": "stderr",
     "output_type": "stream",
     "text": [
      "/usr/local/lib/python3.11/site-packages/xarray/coding/times.py:618: RuntimeWarning: invalid value encountered in cast\n",
      "  int_num = np.asarray(num, dtype=np.int64)\n",
      "/var/folders/9d/qyypdys57ms__4dsnj3xgp0c0006y5/T/ipykernel_37069/1612894569.py:11: SerializationWarning: saving variable latitude with floating point data as an integer dtype without any _FillValue to use for NaNs\n",
      "  ds_area.to_netcdf(output_name)\n",
      "/var/folders/9d/qyypdys57ms__4dsnj3xgp0c0006y5/T/ipykernel_37069/1612894569.py:11: SerializationWarning: saving variable longitude with floating point data as an integer dtype without any _FillValue to use for NaNs\n",
      "  ds_area.to_netcdf(output_name)\n"
     ]
    },
    {
     "name": "stdout",
     "output_type": "stream",
     "text": [
      "217\n",
      "SWOT_L3_LR_SSH_Expert_549_011_20230611T185020_20230611T194125_v0.1.nc\n"
     ]
    },
    {
     "name": "stderr",
     "output_type": "stream",
     "text": [
      "/usr/local/lib/python3.11/site-packages/xarray/coding/times.py:618: RuntimeWarning: invalid value encountered in cast\n",
      "  int_num = np.asarray(num, dtype=np.int64)\n",
      "/var/folders/9d/qyypdys57ms__4dsnj3xgp0c0006y5/T/ipykernel_37069/1612894569.py:11: SerializationWarning: saving variable latitude with floating point data as an integer dtype without any _FillValue to use for NaNs\n",
      "  ds_area.to_netcdf(output_name)\n",
      "/var/folders/9d/qyypdys57ms__4dsnj3xgp0c0006y5/T/ipykernel_37069/1612894569.py:11: SerializationWarning: saving variable longitude with floating point data as an integer dtype without any _FillValue to use for NaNs\n",
      "  ds_area.to_netcdf(output_name)\n"
     ]
    },
    {
     "name": "stdout",
     "output_type": "stream",
     "text": [
      "232\n",
      "SWOT_L3_LR_SSH_Expert_549_026_20230612T073645_20230612T082750_v0.1.nc\n"
     ]
    },
    {
     "name": "stderr",
     "output_type": "stream",
     "text": [
      "/usr/local/lib/python3.11/site-packages/xarray/coding/times.py:618: RuntimeWarning: invalid value encountered in cast\n",
      "  int_num = np.asarray(num, dtype=np.int64)\n",
      "/var/folders/9d/qyypdys57ms__4dsnj3xgp0c0006y5/T/ipykernel_37069/1612894569.py:11: SerializationWarning: saving variable latitude with floating point data as an integer dtype without any _FillValue to use for NaNs\n",
      "  ds_area.to_netcdf(output_name)\n",
      "/var/folders/9d/qyypdys57ms__4dsnj3xgp0c0006y5/T/ipykernel_37069/1612894569.py:11: SerializationWarning: saving variable longitude with floating point data as an integer dtype without any _FillValue to use for NaNs\n",
      "  ds_area.to_netcdf(output_name)\n"
     ]
    },
    {
     "name": "stdout",
     "output_type": "stream",
     "text": [
      "245\n",
      "SWOT_L3_LR_SSH_Expert_550_011_20230612T184058_20230612T193203_v0.1.nc\n"
     ]
    },
    {
     "name": "stderr",
     "output_type": "stream",
     "text": [
      "/usr/local/lib/python3.11/site-packages/xarray/coding/times.py:618: RuntimeWarning: invalid value encountered in cast\n",
      "  int_num = np.asarray(num, dtype=np.int64)\n",
      "/var/folders/9d/qyypdys57ms__4dsnj3xgp0c0006y5/T/ipykernel_37069/1612894569.py:11: SerializationWarning: saving variable latitude with floating point data as an integer dtype without any _FillValue to use for NaNs\n",
      "  ds_area.to_netcdf(output_name)\n",
      "/var/folders/9d/qyypdys57ms__4dsnj3xgp0c0006y5/T/ipykernel_37069/1612894569.py:11: SerializationWarning: saving variable longitude with floating point data as an integer dtype without any _FillValue to use for NaNs\n",
      "  ds_area.to_netcdf(output_name)\n"
     ]
    },
    {
     "name": "stdout",
     "output_type": "stream",
     "text": [
      "262\n",
      "SWOT_L3_LR_SSH_Expert_551_026_20230614T071800_20230614T080906_v0.1.nc\n"
     ]
    },
    {
     "name": "stderr",
     "output_type": "stream",
     "text": [
      "/usr/local/lib/python3.11/site-packages/xarray/coding/times.py:618: RuntimeWarning: invalid value encountered in cast\n",
      "  int_num = np.asarray(num, dtype=np.int64)\n",
      "/var/folders/9d/qyypdys57ms__4dsnj3xgp0c0006y5/T/ipykernel_37069/1612894569.py:11: SerializationWarning: saving variable latitude with floating point data as an integer dtype without any _FillValue to use for NaNs\n",
      "  ds_area.to_netcdf(output_name)\n",
      "/var/folders/9d/qyypdys57ms__4dsnj3xgp0c0006y5/T/ipykernel_37069/1612894569.py:11: SerializationWarning: saving variable longitude with floating point data as an integer dtype without any _FillValue to use for NaNs\n",
      "  ds_area.to_netcdf(output_name)\n"
     ]
    },
    {
     "name": "stdout",
     "output_type": "stream",
     "text": [
      "274\n",
      "SWOT_L3_LR_SSH_Expert_552_011_20230614T182213_20230614T191318_v0.1.nc\n"
     ]
    },
    {
     "name": "stderr",
     "output_type": "stream",
     "text": [
      "/usr/local/lib/python3.11/site-packages/xarray/coding/times.py:618: RuntimeWarning: invalid value encountered in cast\n",
      "  int_num = np.asarray(num, dtype=np.int64)\n",
      "/var/folders/9d/qyypdys57ms__4dsnj3xgp0c0006y5/T/ipykernel_37069/1612894569.py:11: SerializationWarning: saving variable latitude with floating point data as an integer dtype without any _FillValue to use for NaNs\n",
      "  ds_area.to_netcdf(output_name)\n",
      "/var/folders/9d/qyypdys57ms__4dsnj3xgp0c0006y5/T/ipykernel_37069/1612894569.py:11: SerializationWarning: saving variable longitude with floating point data as an integer dtype without any _FillValue to use for NaNs\n",
      "  ds_area.to_netcdf(output_name)\n"
     ]
    },
    {
     "name": "stdout",
     "output_type": "stream",
     "text": [
      "297\n",
      "SWOT_L3_LR_SSH_Expert_553_011_20230615T181251_20230615T190356_v0.1.nc\n"
     ]
    },
    {
     "name": "stderr",
     "output_type": "stream",
     "text": [
      "/usr/local/lib/python3.11/site-packages/xarray/coding/times.py:618: RuntimeWarning: invalid value encountered in cast\n",
      "  int_num = np.asarray(num, dtype=np.int64)\n",
      "/var/folders/9d/qyypdys57ms__4dsnj3xgp0c0006y5/T/ipykernel_37069/1612894569.py:11: SerializationWarning: saving variable latitude with floating point data as an integer dtype without any _FillValue to use for NaNs\n",
      "  ds_area.to_netcdf(output_name)\n",
      "/var/folders/9d/qyypdys57ms__4dsnj3xgp0c0006y5/T/ipykernel_37069/1612894569.py:11: SerializationWarning: saving variable longitude with floating point data as an integer dtype without any _FillValue to use for NaNs\n",
      "  ds_area.to_netcdf(output_name)\n"
     ]
    },
    {
     "name": "stdout",
     "output_type": "stream",
     "text": [
      "312\n",
      "SWOT_L3_LR_SSH_Expert_553_026_20230616T065915_20230616T075021_v0.1.nc\n"
     ]
    },
    {
     "name": "stderr",
     "output_type": "stream",
     "text": [
      "/usr/local/lib/python3.11/site-packages/xarray/coding/times.py:618: RuntimeWarning: invalid value encountered in cast\n",
      "  int_num = np.asarray(num, dtype=np.int64)\n",
      "/var/folders/9d/qyypdys57ms__4dsnj3xgp0c0006y5/T/ipykernel_37069/1612894569.py:11: SerializationWarning: saving variable latitude with floating point data as an integer dtype without any _FillValue to use for NaNs\n",
      "  ds_area.to_netcdf(output_name)\n",
      "/var/folders/9d/qyypdys57ms__4dsnj3xgp0c0006y5/T/ipykernel_37069/1612894569.py:11: SerializationWarning: saving variable longitude with floating point data as an integer dtype without any _FillValue to use for NaNs\n",
      "  ds_area.to_netcdf(output_name)\n"
     ]
    },
    {
     "name": "stdout",
     "output_type": "stream",
     "text": [
      "325\n",
      "SWOT_L3_LR_SSH_Expert_554_011_20230616T180328_20230616T185434_v0.1.nc\n"
     ]
    },
    {
     "name": "stderr",
     "output_type": "stream",
     "text": [
      "/usr/local/lib/python3.11/site-packages/xarray/coding/times.py:618: RuntimeWarning: invalid value encountered in cast\n",
      "  int_num = np.asarray(num, dtype=np.int64)\n",
      "/var/folders/9d/qyypdys57ms__4dsnj3xgp0c0006y5/T/ipykernel_37069/1612894569.py:11: SerializationWarning: saving variable latitude with floating point data as an integer dtype without any _FillValue to use for NaNs\n",
      "  ds_area.to_netcdf(output_name)\n",
      "/var/folders/9d/qyypdys57ms__4dsnj3xgp0c0006y5/T/ipykernel_37069/1612894569.py:11: SerializationWarning: saving variable longitude with floating point data as an integer dtype without any _FillValue to use for NaNs\n",
      "  ds_area.to_netcdf(output_name)\n"
     ]
    },
    {
     "name": "stdout",
     "output_type": "stream",
     "text": [
      "336\n",
      "SWOT_L3_LR_SSH_Expert_554_026_20230617T064953_20230617T074059_v0.1.nc\n"
     ]
    },
    {
     "name": "stderr",
     "output_type": "stream",
     "text": [
      "/usr/local/lib/python3.11/site-packages/xarray/coding/times.py:618: RuntimeWarning: invalid value encountered in cast\n",
      "  int_num = np.asarray(num, dtype=np.int64)\n",
      "/var/folders/9d/qyypdys57ms__4dsnj3xgp0c0006y5/T/ipykernel_37069/1612894569.py:11: SerializationWarning: saving variable latitude with floating point data as an integer dtype without any _FillValue to use for NaNs\n",
      "  ds_area.to_netcdf(output_name)\n",
      "/var/folders/9d/qyypdys57ms__4dsnj3xgp0c0006y5/T/ipykernel_37069/1612894569.py:11: SerializationWarning: saving variable longitude with floating point data as an integer dtype without any _FillValue to use for NaNs\n",
      "  ds_area.to_netcdf(output_name)\n"
     ]
    },
    {
     "name": "stdout",
     "output_type": "stream",
     "text": [
      "349\n",
      "SWOT_L3_LR_SSH_Expert_555_011_20230617T175406_20230617T184512_v0.1.nc\n"
     ]
    },
    {
     "name": "stderr",
     "output_type": "stream",
     "text": [
      "/usr/local/lib/python3.11/site-packages/xarray/coding/times.py:618: RuntimeWarning: invalid value encountered in cast\n",
      "  int_num = np.asarray(num, dtype=np.int64)\n",
      "/var/folders/9d/qyypdys57ms__4dsnj3xgp0c0006y5/T/ipykernel_37069/1612894569.py:11: SerializationWarning: saving variable latitude with floating point data as an integer dtype without any _FillValue to use for NaNs\n",
      "  ds_area.to_netcdf(output_name)\n",
      "/var/folders/9d/qyypdys57ms__4dsnj3xgp0c0006y5/T/ipykernel_37069/1612894569.py:11: SerializationWarning: saving variable longitude with floating point data as an integer dtype without any _FillValue to use for NaNs\n",
      "  ds_area.to_netcdf(output_name)\n"
     ]
    },
    {
     "name": "stdout",
     "output_type": "stream",
     "text": [
      "364\n",
      "SWOT_L3_LR_SSH_Expert_555_026_20230618T064031_20230618T073137_v0.1.nc\n"
     ]
    },
    {
     "name": "stderr",
     "output_type": "stream",
     "text": [
      "/usr/local/lib/python3.11/site-packages/xarray/coding/times.py:618: RuntimeWarning: invalid value encountered in cast\n",
      "  int_num = np.asarray(num, dtype=np.int64)\n",
      "/var/folders/9d/qyypdys57ms__4dsnj3xgp0c0006y5/T/ipykernel_37069/1612894569.py:11: SerializationWarning: saving variable latitude with floating point data as an integer dtype without any _FillValue to use for NaNs\n",
      "  ds_area.to_netcdf(output_name)\n",
      "/var/folders/9d/qyypdys57ms__4dsnj3xgp0c0006y5/T/ipykernel_37069/1612894569.py:11: SerializationWarning: saving variable longitude with floating point data as an integer dtype without any _FillValue to use for NaNs\n",
      "  ds_area.to_netcdf(output_name)\n"
     ]
    },
    {
     "name": "stdout",
     "output_type": "stream",
     "text": [
      "377\n",
      "SWOT_L3_LR_SSH_Expert_556_011_20230618T174445_20230618T183550_v0.1.nc\n"
     ]
    },
    {
     "name": "stderr",
     "output_type": "stream",
     "text": [
      "/usr/local/lib/python3.11/site-packages/xarray/coding/times.py:618: RuntimeWarning: invalid value encountered in cast\n",
      "  int_num = np.asarray(num, dtype=np.int64)\n",
      "/var/folders/9d/qyypdys57ms__4dsnj3xgp0c0006y5/T/ipykernel_37069/1612894569.py:11: SerializationWarning: saving variable latitude with floating point data as an integer dtype without any _FillValue to use for NaNs\n",
      "  ds_area.to_netcdf(output_name)\n",
      "/var/folders/9d/qyypdys57ms__4dsnj3xgp0c0006y5/T/ipykernel_37069/1612894569.py:11: SerializationWarning: saving variable longitude with floating point data as an integer dtype without any _FillValue to use for NaNs\n",
      "  ds_area.to_netcdf(output_name)\n"
     ]
    },
    {
     "name": "stdout",
     "output_type": "stream",
     "text": [
      "392\n",
      "SWOT_L3_LR_SSH_Expert_556_026_20230619T063110_20230619T072215_v0.1.nc\n"
     ]
    },
    {
     "name": "stderr",
     "output_type": "stream",
     "text": [
      "/usr/local/lib/python3.11/site-packages/xarray/coding/times.py:618: RuntimeWarning: invalid value encountered in cast\n",
      "  int_num = np.asarray(num, dtype=np.int64)\n",
      "/var/folders/9d/qyypdys57ms__4dsnj3xgp0c0006y5/T/ipykernel_37069/1612894569.py:11: SerializationWarning: saving variable latitude with floating point data as an integer dtype without any _FillValue to use for NaNs\n",
      "  ds_area.to_netcdf(output_name)\n",
      "/var/folders/9d/qyypdys57ms__4dsnj3xgp0c0006y5/T/ipykernel_37069/1612894569.py:11: SerializationWarning: saving variable longitude with floating point data as an integer dtype without any _FillValue to use for NaNs\n",
      "  ds_area.to_netcdf(output_name)\n"
     ]
    },
    {
     "name": "stdout",
     "output_type": "stream",
     "text": [
      "405\n",
      "SWOT_L3_LR_SSH_Expert_557_011_20230619T173523_20230619T182628_v0.1.nc\n"
     ]
    },
    {
     "name": "stderr",
     "output_type": "stream",
     "text": [
      "/usr/local/lib/python3.11/site-packages/xarray/coding/times.py:618: RuntimeWarning: invalid value encountered in cast\n",
      "  int_num = np.asarray(num, dtype=np.int64)\n",
      "/var/folders/9d/qyypdys57ms__4dsnj3xgp0c0006y5/T/ipykernel_37069/1612894569.py:11: SerializationWarning: saving variable latitude with floating point data as an integer dtype without any _FillValue to use for NaNs\n",
      "  ds_area.to_netcdf(output_name)\n",
      "/var/folders/9d/qyypdys57ms__4dsnj3xgp0c0006y5/T/ipykernel_37069/1612894569.py:11: SerializationWarning: saving variable longitude with floating point data as an integer dtype without any _FillValue to use for NaNs\n",
      "  ds_area.to_netcdf(output_name)\n"
     ]
    },
    {
     "name": "stdout",
     "output_type": "stream",
     "text": [
      "420\n",
      "SWOT_L3_LR_SSH_Expert_557_026_20230620T062148_20230620T071253_v0.1.nc\n"
     ]
    },
    {
     "name": "stderr",
     "output_type": "stream",
     "text": [
      "/usr/local/lib/python3.11/site-packages/xarray/coding/times.py:618: RuntimeWarning: invalid value encountered in cast\n",
      "  int_num = np.asarray(num, dtype=np.int64)\n",
      "/var/folders/9d/qyypdys57ms__4dsnj3xgp0c0006y5/T/ipykernel_37069/1612894569.py:11: SerializationWarning: saving variable latitude with floating point data as an integer dtype without any _FillValue to use for NaNs\n",
      "  ds_area.to_netcdf(output_name)\n",
      "/var/folders/9d/qyypdys57ms__4dsnj3xgp0c0006y5/T/ipykernel_37069/1612894569.py:11: SerializationWarning: saving variable longitude with floating point data as an integer dtype without any _FillValue to use for NaNs\n",
      "  ds_area.to_netcdf(output_name)\n"
     ]
    },
    {
     "name": "stdout",
     "output_type": "stream",
     "text": [
      "426\n",
      "SWOT_L3_LR_SSH_Expert_558_011_20230620T172601_20230620T181706_v0.1.nc\n"
     ]
    },
    {
     "name": "stderr",
     "output_type": "stream",
     "text": [
      "/usr/local/lib/python3.11/site-packages/xarray/coding/times.py:618: RuntimeWarning: invalid value encountered in cast\n",
      "  int_num = np.asarray(num, dtype=np.int64)\n",
      "/var/folders/9d/qyypdys57ms__4dsnj3xgp0c0006y5/T/ipykernel_37069/1612894569.py:11: SerializationWarning: saving variable latitude with floating point data as an integer dtype without any _FillValue to use for NaNs\n",
      "  ds_area.to_netcdf(output_name)\n",
      "/var/folders/9d/qyypdys57ms__4dsnj3xgp0c0006y5/T/ipykernel_37069/1612894569.py:11: SerializationWarning: saving variable longitude with floating point data as an integer dtype without any _FillValue to use for NaNs\n",
      "  ds_area.to_netcdf(output_name)\n"
     ]
    },
    {
     "name": "stdout",
     "output_type": "stream",
     "text": [
      "444\n",
      "SWOT_L3_LR_SSH_Expert_559_011_20230621T171639_20230621T180744_v0.1.nc\n"
     ]
    },
    {
     "name": "stderr",
     "output_type": "stream",
     "text": [
      "/usr/local/lib/python3.11/site-packages/xarray/coding/times.py:618: RuntimeWarning: invalid value encountered in cast\n",
      "  int_num = np.asarray(num, dtype=np.int64)\n",
      "/var/folders/9d/qyypdys57ms__4dsnj3xgp0c0006y5/T/ipykernel_37069/1612894569.py:11: SerializationWarning: saving variable latitude with floating point data as an integer dtype without any _FillValue to use for NaNs\n",
      "  ds_area.to_netcdf(output_name)\n",
      "/var/folders/9d/qyypdys57ms__4dsnj3xgp0c0006y5/T/ipykernel_37069/1612894569.py:11: SerializationWarning: saving variable longitude with floating point data as an integer dtype without any _FillValue to use for NaNs\n",
      "  ds_area.to_netcdf(output_name)\n"
     ]
    },
    {
     "name": "stdout",
     "output_type": "stream",
     "text": [
      "459\n",
      "SWOT_L3_LR_SSH_Expert_559_026_20230622T060304_20230622T065409_v0.1.nc\n"
     ]
    },
    {
     "name": "stderr",
     "output_type": "stream",
     "text": [
      "/usr/local/lib/python3.11/site-packages/xarray/coding/times.py:618: RuntimeWarning: invalid value encountered in cast\n",
      "  int_num = np.asarray(num, dtype=np.int64)\n",
      "/var/folders/9d/qyypdys57ms__4dsnj3xgp0c0006y5/T/ipykernel_37069/1612894569.py:11: SerializationWarning: saving variable latitude with floating point data as an integer dtype without any _FillValue to use for NaNs\n",
      "  ds_area.to_netcdf(output_name)\n",
      "/var/folders/9d/qyypdys57ms__4dsnj3xgp0c0006y5/T/ipykernel_37069/1612894569.py:11: SerializationWarning: saving variable longitude with floating point data as an integer dtype without any _FillValue to use for NaNs\n",
      "  ds_area.to_netcdf(output_name)\n"
     ]
    },
    {
     "name": "stdout",
     "output_type": "stream",
     "text": [
      "470\n",
      "SWOT_L3_LR_SSH_Expert_560_011_20230622T170717_20230622T175822_v0.1.nc\n"
     ]
    },
    {
     "name": "stderr",
     "output_type": "stream",
     "text": [
      "/usr/local/lib/python3.11/site-packages/xarray/coding/times.py:618: RuntimeWarning: invalid value encountered in cast\n",
      "  int_num = np.asarray(num, dtype=np.int64)\n",
      "/var/folders/9d/qyypdys57ms__4dsnj3xgp0c0006y5/T/ipykernel_37069/1612894569.py:11: SerializationWarning: saving variable latitude with floating point data as an integer dtype without any _FillValue to use for NaNs\n",
      "  ds_area.to_netcdf(output_name)\n",
      "/var/folders/9d/qyypdys57ms__4dsnj3xgp0c0006y5/T/ipykernel_37069/1612894569.py:11: SerializationWarning: saving variable longitude with floating point data as an integer dtype without any _FillValue to use for NaNs\n",
      "  ds_area.to_netcdf(output_name)\n"
     ]
    },
    {
     "name": "stdout",
     "output_type": "stream",
     "text": [
      "485\n",
      "SWOT_L3_LR_SSH_Expert_560_026_20230623T055342_20230623T064447_v0.1.nc\n"
     ]
    },
    {
     "name": "stderr",
     "output_type": "stream",
     "text": [
      "/usr/local/lib/python3.11/site-packages/xarray/coding/times.py:618: RuntimeWarning: invalid value encountered in cast\n",
      "  int_num = np.asarray(num, dtype=np.int64)\n",
      "/var/folders/9d/qyypdys57ms__4dsnj3xgp0c0006y5/T/ipykernel_37069/1612894569.py:11: SerializationWarning: saving variable latitude with floating point data as an integer dtype without any _FillValue to use for NaNs\n",
      "  ds_area.to_netcdf(output_name)\n",
      "/var/folders/9d/qyypdys57ms__4dsnj3xgp0c0006y5/T/ipykernel_37069/1612894569.py:11: SerializationWarning: saving variable longitude with floating point data as an integer dtype without any _FillValue to use for NaNs\n",
      "  ds_area.to_netcdf(output_name)\n"
     ]
    },
    {
     "name": "stdout",
     "output_type": "stream",
     "text": [
      "497\n",
      "SWOT_L3_LR_SSH_Expert_561_011_20230623T165755_20230623T174900_v0.1.nc\n"
     ]
    },
    {
     "name": "stderr",
     "output_type": "stream",
     "text": [
      "/usr/local/lib/python3.11/site-packages/xarray/coding/times.py:618: RuntimeWarning: invalid value encountered in cast\n",
      "  int_num = np.asarray(num, dtype=np.int64)\n",
      "/var/folders/9d/qyypdys57ms__4dsnj3xgp0c0006y5/T/ipykernel_37069/1612894569.py:11: SerializationWarning: saving variable latitude with floating point data as an integer dtype without any _FillValue to use for NaNs\n",
      "  ds_area.to_netcdf(output_name)\n",
      "/var/folders/9d/qyypdys57ms__4dsnj3xgp0c0006y5/T/ipykernel_37069/1612894569.py:11: SerializationWarning: saving variable longitude with floating point data as an integer dtype without any _FillValue to use for NaNs\n",
      "  ds_area.to_netcdf(output_name)\n"
     ]
    },
    {
     "name": "stdout",
     "output_type": "stream",
     "text": [
      "516\n",
      "SWOT_L3_LR_SSH_Expert_562_026_20230625T053458_20230625T062602_v0.1.nc\n"
     ]
    },
    {
     "name": "stderr",
     "output_type": "stream",
     "text": [
      "/usr/local/lib/python3.11/site-packages/xarray/coding/times.py:618: RuntimeWarning: invalid value encountered in cast\n",
      "  int_num = np.asarray(num, dtype=np.int64)\n",
      "/var/folders/9d/qyypdys57ms__4dsnj3xgp0c0006y5/T/ipykernel_37069/1612894569.py:11: SerializationWarning: saving variable latitude with floating point data as an integer dtype without any _FillValue to use for NaNs\n",
      "  ds_area.to_netcdf(output_name)\n",
      "/var/folders/9d/qyypdys57ms__4dsnj3xgp0c0006y5/T/ipykernel_37069/1612894569.py:11: SerializationWarning: saving variable longitude with floating point data as an integer dtype without any _FillValue to use for NaNs\n",
      "  ds_area.to_netcdf(output_name)\n"
     ]
    },
    {
     "name": "stdout",
     "output_type": "stream",
     "text": [
      "529\n",
      "SWOT_L3_LR_SSH_Expert_563_011_20230625T163911_20230625T173016_v0.1.nc\n"
     ]
    },
    {
     "name": "stderr",
     "output_type": "stream",
     "text": [
      "/usr/local/lib/python3.11/site-packages/xarray/coding/times.py:618: RuntimeWarning: invalid value encountered in cast\n",
      "  int_num = np.asarray(num, dtype=np.int64)\n",
      "/var/folders/9d/qyypdys57ms__4dsnj3xgp0c0006y5/T/ipykernel_37069/1612894569.py:11: SerializationWarning: saving variable latitude with floating point data as an integer dtype without any _FillValue to use for NaNs\n",
      "  ds_area.to_netcdf(output_name)\n",
      "/var/folders/9d/qyypdys57ms__4dsnj3xgp0c0006y5/T/ipykernel_37069/1612894569.py:11: SerializationWarning: saving variable longitude with floating point data as an integer dtype without any _FillValue to use for NaNs\n",
      "  ds_area.to_netcdf(output_name)\n"
     ]
    },
    {
     "name": "stdout",
     "output_type": "stream",
     "text": [
      "544\n",
      "SWOT_L3_LR_SSH_Expert_563_026_20230626T052536_20230626T061640_v0.1.nc\n"
     ]
    },
    {
     "name": "stderr",
     "output_type": "stream",
     "text": [
      "/usr/local/lib/python3.11/site-packages/xarray/coding/times.py:618: RuntimeWarning: invalid value encountered in cast\n",
      "  int_num = np.asarray(num, dtype=np.int64)\n",
      "/var/folders/9d/qyypdys57ms__4dsnj3xgp0c0006y5/T/ipykernel_37069/1612894569.py:11: SerializationWarning: saving variable latitude with floating point data as an integer dtype without any _FillValue to use for NaNs\n",
      "  ds_area.to_netcdf(output_name)\n",
      "/var/folders/9d/qyypdys57ms__4dsnj3xgp0c0006y5/T/ipykernel_37069/1612894569.py:11: SerializationWarning: saving variable longitude with floating point data as an integer dtype without any _FillValue to use for NaNs\n",
      "  ds_area.to_netcdf(output_name)\n"
     ]
    },
    {
     "name": "stdout",
     "output_type": "stream",
     "text": [
      "557\n",
      "SWOT_L3_LR_SSH_Expert_564_011_20230626T162949_20230626T172054_v0.1.nc\n"
     ]
    },
    {
     "name": "stderr",
     "output_type": "stream",
     "text": [
      "/usr/local/lib/python3.11/site-packages/xarray/coding/times.py:618: RuntimeWarning: invalid value encountered in cast\n",
      "  int_num = np.asarray(num, dtype=np.int64)\n",
      "/var/folders/9d/qyypdys57ms__4dsnj3xgp0c0006y5/T/ipykernel_37069/1612894569.py:11: SerializationWarning: saving variable latitude with floating point data as an integer dtype without any _FillValue to use for NaNs\n",
      "  ds_area.to_netcdf(output_name)\n",
      "/var/folders/9d/qyypdys57ms__4dsnj3xgp0c0006y5/T/ipykernel_37069/1612894569.py:11: SerializationWarning: saving variable longitude with floating point data as an integer dtype without any _FillValue to use for NaNs\n",
      "  ds_area.to_netcdf(output_name)\n"
     ]
    },
    {
     "name": "stdout",
     "output_type": "stream",
     "text": [
      "567\n",
      "SWOT_L3_LR_SSH_Expert_565_011_20230627T162026_20230627T171132_v0.1.nc\n"
     ]
    },
    {
     "name": "stderr",
     "output_type": "stream",
     "text": [
      "/usr/local/lib/python3.11/site-packages/xarray/coding/times.py:618: RuntimeWarning: invalid value encountered in cast\n",
      "  int_num = np.asarray(num, dtype=np.int64)\n",
      "/var/folders/9d/qyypdys57ms__4dsnj3xgp0c0006y5/T/ipykernel_37069/1612894569.py:11: SerializationWarning: saving variable latitude with floating point data as an integer dtype without any _FillValue to use for NaNs\n",
      "  ds_area.to_netcdf(output_name)\n",
      "/var/folders/9d/qyypdys57ms__4dsnj3xgp0c0006y5/T/ipykernel_37069/1612894569.py:11: SerializationWarning: saving variable longitude with floating point data as an integer dtype without any _FillValue to use for NaNs\n",
      "  ds_area.to_netcdf(output_name)\n"
     ]
    },
    {
     "name": "stdout",
     "output_type": "stream",
     "text": [
      "581\n",
      "SWOT_L3_LR_SSH_Expert_565_026_20230628T050651_20230628T055756_v0.1.nc\n"
     ]
    },
    {
     "name": "stderr",
     "output_type": "stream",
     "text": [
      "/usr/local/lib/python3.11/site-packages/xarray/coding/times.py:618: RuntimeWarning: invalid value encountered in cast\n",
      "  int_num = np.asarray(num, dtype=np.int64)\n",
      "/var/folders/9d/qyypdys57ms__4dsnj3xgp0c0006y5/T/ipykernel_37069/1612894569.py:11: SerializationWarning: saving variable latitude with floating point data as an integer dtype without any _FillValue to use for NaNs\n",
      "  ds_area.to_netcdf(output_name)\n",
      "/var/folders/9d/qyypdys57ms__4dsnj3xgp0c0006y5/T/ipykernel_37069/1612894569.py:11: SerializationWarning: saving variable longitude with floating point data as an integer dtype without any _FillValue to use for NaNs\n",
      "  ds_area.to_netcdf(output_name)\n"
     ]
    },
    {
     "name": "stdout",
     "output_type": "stream",
     "text": [
      "590\n",
      "SWOT_L3_LR_SSH_Expert_566_011_20230628T161104_20230628T170209_v0.1.nc\n"
     ]
    },
    {
     "name": "stderr",
     "output_type": "stream",
     "text": [
      "/usr/local/lib/python3.11/site-packages/xarray/coding/times.py:618: RuntimeWarning: invalid value encountered in cast\n",
      "  int_num = np.asarray(num, dtype=np.int64)\n",
      "/var/folders/9d/qyypdys57ms__4dsnj3xgp0c0006y5/T/ipykernel_37069/1612894569.py:11: SerializationWarning: saving variable latitude with floating point data as an integer dtype without any _FillValue to use for NaNs\n",
      "  ds_area.to_netcdf(output_name)\n",
      "/var/folders/9d/qyypdys57ms__4dsnj3xgp0c0006y5/T/ipykernel_37069/1612894569.py:11: SerializationWarning: saving variable longitude with floating point data as an integer dtype without any _FillValue to use for NaNs\n",
      "  ds_area.to_netcdf(output_name)\n"
     ]
    },
    {
     "name": "stdout",
     "output_type": "stream",
     "text": [
      "602\n",
      "SWOT_L3_LR_SSH_Expert_566_026_20230629T045729_20230629T054834_v0.1.nc\n"
     ]
    },
    {
     "name": "stderr",
     "output_type": "stream",
     "text": [
      "/usr/local/lib/python3.11/site-packages/xarray/coding/times.py:618: RuntimeWarning: invalid value encountered in cast\n",
      "  int_num = np.asarray(num, dtype=np.int64)\n",
      "/var/folders/9d/qyypdys57ms__4dsnj3xgp0c0006y5/T/ipykernel_37069/1612894569.py:11: SerializationWarning: saving variable latitude with floating point data as an integer dtype without any _FillValue to use for NaNs\n",
      "  ds_area.to_netcdf(output_name)\n",
      "/var/folders/9d/qyypdys57ms__4dsnj3xgp0c0006y5/T/ipykernel_37069/1612894569.py:11: SerializationWarning: saving variable longitude with floating point data as an integer dtype without any _FillValue to use for NaNs\n",
      "  ds_area.to_netcdf(output_name)\n"
     ]
    },
    {
     "name": "stdout",
     "output_type": "stream",
     "text": [
      "614\n",
      "SWOT_L3_LR_SSH_Expert_567_011_20230629T160142_20230629T165247_v0.1.nc\n"
     ]
    },
    {
     "name": "stderr",
     "output_type": "stream",
     "text": [
      "/usr/local/lib/python3.11/site-packages/xarray/coding/times.py:618: RuntimeWarning: invalid value encountered in cast\n",
      "  int_num = np.asarray(num, dtype=np.int64)\n",
      "/var/folders/9d/qyypdys57ms__4dsnj3xgp0c0006y5/T/ipykernel_37069/1612894569.py:11: SerializationWarning: saving variable latitude with floating point data as an integer dtype without any _FillValue to use for NaNs\n",
      "  ds_area.to_netcdf(output_name)\n",
      "/var/folders/9d/qyypdys57ms__4dsnj3xgp0c0006y5/T/ipykernel_37069/1612894569.py:11: SerializationWarning: saving variable longitude with floating point data as an integer dtype without any _FillValue to use for NaNs\n",
      "  ds_area.to_netcdf(output_name)\n"
     ]
    },
    {
     "name": "stdout",
     "output_type": "stream",
     "text": [
      "628\n",
      "SWOT_L3_LR_SSH_Expert_567_026_20230630T044807_20230630T053912_v0.1.nc\n"
     ]
    },
    {
     "name": "stderr",
     "output_type": "stream",
     "text": [
      "/usr/local/lib/python3.11/site-packages/xarray/coding/times.py:618: RuntimeWarning: invalid value encountered in cast\n",
      "  int_num = np.asarray(num, dtype=np.int64)\n",
      "/var/folders/9d/qyypdys57ms__4dsnj3xgp0c0006y5/T/ipykernel_37069/1612894569.py:11: SerializationWarning: saving variable latitude with floating point data as an integer dtype without any _FillValue to use for NaNs\n",
      "  ds_area.to_netcdf(output_name)\n",
      "/var/folders/9d/qyypdys57ms__4dsnj3xgp0c0006y5/T/ipykernel_37069/1612894569.py:11: SerializationWarning: saving variable longitude with floating point data as an integer dtype without any _FillValue to use for NaNs\n",
      "  ds_area.to_netcdf(output_name)\n"
     ]
    },
    {
     "name": "stdout",
     "output_type": "stream",
     "text": [
      "636\n",
      "SWOT_L3_LR_SSH_Expert_568_011_20230630T155220_20230630T164325_v0.1.nc\n"
     ]
    },
    {
     "name": "stderr",
     "output_type": "stream",
     "text": [
      "/usr/local/lib/python3.11/site-packages/xarray/coding/times.py:618: RuntimeWarning: invalid value encountered in cast\n",
      "  int_num = np.asarray(num, dtype=np.int64)\n",
      "/var/folders/9d/qyypdys57ms__4dsnj3xgp0c0006y5/T/ipykernel_37069/1612894569.py:11: SerializationWarning: saving variable latitude with floating point data as an integer dtype without any _FillValue to use for NaNs\n",
      "  ds_area.to_netcdf(output_name)\n",
      "/var/folders/9d/qyypdys57ms__4dsnj3xgp0c0006y5/T/ipykernel_37069/1612894569.py:11: SerializationWarning: saving variable longitude with floating point data as an integer dtype without any _FillValue to use for NaNs\n",
      "  ds_area.to_netcdf(output_name)\n"
     ]
    },
    {
     "name": "stdout",
     "output_type": "stream",
     "text": [
      "654\n",
      "SWOT_L3_LR_SSH_Expert_569_011_20230701T154258_20230701T163403_v0.1.nc\n"
     ]
    },
    {
     "name": "stderr",
     "output_type": "stream",
     "text": [
      "/usr/local/lib/python3.11/site-packages/xarray/coding/times.py:618: RuntimeWarning: invalid value encountered in cast\n",
      "  int_num = np.asarray(num, dtype=np.int64)\n",
      "/var/folders/9d/qyypdys57ms__4dsnj3xgp0c0006y5/T/ipykernel_37069/1612894569.py:11: SerializationWarning: saving variable latitude with floating point data as an integer dtype without any _FillValue to use for NaNs\n",
      "  ds_area.to_netcdf(output_name)\n",
      "/var/folders/9d/qyypdys57ms__4dsnj3xgp0c0006y5/T/ipykernel_37069/1612894569.py:11: SerializationWarning: saving variable longitude with floating point data as an integer dtype without any _FillValue to use for NaNs\n",
      "  ds_area.to_netcdf(output_name)\n"
     ]
    },
    {
     "name": "stdout",
     "output_type": "stream",
     "text": [
      "669\n",
      "SWOT_L3_LR_SSH_Expert_569_026_20230702T042923_20230702T052028_v0.1.nc\n"
     ]
    },
    {
     "name": "stderr",
     "output_type": "stream",
     "text": [
      "/usr/local/lib/python3.11/site-packages/xarray/coding/times.py:618: RuntimeWarning: invalid value encountered in cast\n",
      "  int_num = np.asarray(num, dtype=np.int64)\n",
      "/var/folders/9d/qyypdys57ms__4dsnj3xgp0c0006y5/T/ipykernel_37069/1612894569.py:11: SerializationWarning: saving variable latitude with floating point data as an integer dtype without any _FillValue to use for NaNs\n",
      "  ds_area.to_netcdf(output_name)\n",
      "/var/folders/9d/qyypdys57ms__4dsnj3xgp0c0006y5/T/ipykernel_37069/1612894569.py:11: SerializationWarning: saving variable longitude with floating point data as an integer dtype without any _FillValue to use for NaNs\n",
      "  ds_area.to_netcdf(output_name)\n"
     ]
    },
    {
     "name": "stdout",
     "output_type": "stream",
     "text": [
      "682\n",
      "SWOT_L3_LR_SSH_Expert_570_011_20230702T153336_20230702T162441_v0.1.nc\n"
     ]
    },
    {
     "name": "stderr",
     "output_type": "stream",
     "text": [
      "/usr/local/lib/python3.11/site-packages/xarray/coding/times.py:618: RuntimeWarning: invalid value encountered in cast\n",
      "  int_num = np.asarray(num, dtype=np.int64)\n",
      "/var/folders/9d/qyypdys57ms__4dsnj3xgp0c0006y5/T/ipykernel_37069/1612894569.py:11: SerializationWarning: saving variable latitude with floating point data as an integer dtype without any _FillValue to use for NaNs\n",
      "  ds_area.to_netcdf(output_name)\n",
      "/var/folders/9d/qyypdys57ms__4dsnj3xgp0c0006y5/T/ipykernel_37069/1612894569.py:11: SerializationWarning: saving variable longitude with floating point data as an integer dtype without any _FillValue to use for NaNs\n",
      "  ds_area.to_netcdf(output_name)\n"
     ]
    },
    {
     "name": "stdout",
     "output_type": "stream",
     "text": [
      "695\n",
      "SWOT_L3_LR_SSH_Expert_570_026_20230703T042001_20230703T051106_v0.1.nc\n"
     ]
    },
    {
     "name": "stderr",
     "output_type": "stream",
     "text": [
      "/usr/local/lib/python3.11/site-packages/xarray/coding/times.py:618: RuntimeWarning: invalid value encountered in cast\n",
      "  int_num = np.asarray(num, dtype=np.int64)\n",
      "/var/folders/9d/qyypdys57ms__4dsnj3xgp0c0006y5/T/ipykernel_37069/1612894569.py:11: SerializationWarning: saving variable latitude with floating point data as an integer dtype without any _FillValue to use for NaNs\n",
      "  ds_area.to_netcdf(output_name)\n",
      "/var/folders/9d/qyypdys57ms__4dsnj3xgp0c0006y5/T/ipykernel_37069/1612894569.py:11: SerializationWarning: saving variable longitude with floating point data as an integer dtype without any _FillValue to use for NaNs\n",
      "  ds_area.to_netcdf(output_name)\n"
     ]
    },
    {
     "name": "stdout",
     "output_type": "stream",
     "text": [
      "708\n",
      "SWOT_L3_LR_SSH_Expert_571_011_20230703T152414_20230703T161519_v0.1.nc\n"
     ]
    },
    {
     "name": "stderr",
     "output_type": "stream",
     "text": [
      "/usr/local/lib/python3.11/site-packages/xarray/coding/times.py:618: RuntimeWarning: invalid value encountered in cast\n",
      "  int_num = np.asarray(num, dtype=np.int64)\n",
      "/var/folders/9d/qyypdys57ms__4dsnj3xgp0c0006y5/T/ipykernel_37069/1612894569.py:11: SerializationWarning: saving variable latitude with floating point data as an integer dtype without any _FillValue to use for NaNs\n",
      "  ds_area.to_netcdf(output_name)\n",
      "/var/folders/9d/qyypdys57ms__4dsnj3xgp0c0006y5/T/ipykernel_37069/1612894569.py:11: SerializationWarning: saving variable longitude with floating point data as an integer dtype without any _FillValue to use for NaNs\n",
      "  ds_area.to_netcdf(output_name)\n"
     ]
    },
    {
     "name": "stdout",
     "output_type": "stream",
     "text": [
      "729\n",
      "SWOT_L3_LR_SSH_Expert_572_026_20230705T040117_20230705T045222_v0.1.nc\n"
     ]
    },
    {
     "name": "stderr",
     "output_type": "stream",
     "text": [
      "/usr/local/lib/python3.11/site-packages/xarray/coding/times.py:618: RuntimeWarning: invalid value encountered in cast\n",
      "  int_num = np.asarray(num, dtype=np.int64)\n",
      "/var/folders/9d/qyypdys57ms__4dsnj3xgp0c0006y5/T/ipykernel_37069/1612894569.py:11: SerializationWarning: saving variable latitude with floating point data as an integer dtype without any _FillValue to use for NaNs\n",
      "  ds_area.to_netcdf(output_name)\n",
      "/var/folders/9d/qyypdys57ms__4dsnj3xgp0c0006y5/T/ipykernel_37069/1612894569.py:11: SerializationWarning: saving variable longitude with floating point data as an integer dtype without any _FillValue to use for NaNs\n",
      "  ds_area.to_netcdf(output_name)\n"
     ]
    },
    {
     "name": "stdout",
     "output_type": "stream",
     "text": [
      "757\n",
      "SWOT_L3_LR_SSH_Expert_574_026_20230707T034233_20230707T043337_v0.1.nc\n"
     ]
    },
    {
     "name": "stderr",
     "output_type": "stream",
     "text": [
      "/usr/local/lib/python3.11/site-packages/xarray/coding/times.py:618: RuntimeWarning: invalid value encountered in cast\n",
      "  int_num = np.asarray(num, dtype=np.int64)\n",
      "/var/folders/9d/qyypdys57ms__4dsnj3xgp0c0006y5/T/ipykernel_37069/1612894569.py:11: SerializationWarning: saving variable latitude with floating point data as an integer dtype without any _FillValue to use for NaNs\n",
      "  ds_area.to_netcdf(output_name)\n",
      "/var/folders/9d/qyypdys57ms__4dsnj3xgp0c0006y5/T/ipykernel_37069/1612894569.py:11: SerializationWarning: saving variable longitude with floating point data as an integer dtype without any _FillValue to use for NaNs\n",
      "  ds_area.to_netcdf(output_name)\n"
     ]
    },
    {
     "name": "stdout",
     "output_type": "stream",
     "text": [
      "769\n",
      "SWOT_L3_LR_SSH_Expert_575_011_20230707T144646_20230707T153751_v0.1.nc\n"
     ]
    },
    {
     "name": "stderr",
     "output_type": "stream",
     "text": [
      "/usr/local/lib/python3.11/site-packages/xarray/coding/times.py:618: RuntimeWarning: invalid value encountered in cast\n",
      "  int_num = np.asarray(num, dtype=np.int64)\n",
      "/var/folders/9d/qyypdys57ms__4dsnj3xgp0c0006y5/T/ipykernel_37069/1612894569.py:11: SerializationWarning: saving variable latitude with floating point data as an integer dtype without any _FillValue to use for NaNs\n",
      "  ds_area.to_netcdf(output_name)\n",
      "/var/folders/9d/qyypdys57ms__4dsnj3xgp0c0006y5/T/ipykernel_37069/1612894569.py:11: SerializationWarning: saving variable longitude with floating point data as an integer dtype without any _FillValue to use for NaNs\n",
      "  ds_area.to_netcdf(output_name)\n"
     ]
    },
    {
     "name": "stdout",
     "output_type": "stream",
     "text": [
      "793\n",
      "SWOT_L3_LR_SSH_Expert_576_026_20230709T032348_20230709T041453_v0.1.nc\n"
     ]
    },
    {
     "name": "stderr",
     "output_type": "stream",
     "text": [
      "/usr/local/lib/python3.11/site-packages/xarray/coding/times.py:618: RuntimeWarning: invalid value encountered in cast\n",
      "  int_num = np.asarray(num, dtype=np.int64)\n",
      "/var/folders/9d/qyypdys57ms__4dsnj3xgp0c0006y5/T/ipykernel_37069/1612894569.py:11: SerializationWarning: saving variable latitude with floating point data as an integer dtype without any _FillValue to use for NaNs\n",
      "  ds_area.to_netcdf(output_name)\n",
      "/var/folders/9d/qyypdys57ms__4dsnj3xgp0c0006y5/T/ipykernel_37069/1612894569.py:11: SerializationWarning: saving variable longitude with floating point data as an integer dtype without any _FillValue to use for NaNs\n",
      "  ds_area.to_netcdf(output_name)\n"
     ]
    },
    {
     "name": "stdout",
     "output_type": "stream",
     "text": [
      "806\n",
      "SWOT_L3_LR_SSH_Expert_577_011_20230709T142801_20230709T151907_v0.1.nc\n"
     ]
    },
    {
     "name": "stderr",
     "output_type": "stream",
     "text": [
      "/usr/local/lib/python3.11/site-packages/xarray/coding/times.py:618: RuntimeWarning: invalid value encountered in cast\n",
      "  int_num = np.asarray(num, dtype=np.int64)\n",
      "/var/folders/9d/qyypdys57ms__4dsnj3xgp0c0006y5/T/ipykernel_37069/1612894569.py:11: SerializationWarning: saving variable latitude with floating point data as an integer dtype without any _FillValue to use for NaNs\n",
      "  ds_area.to_netcdf(output_name)\n",
      "/var/folders/9d/qyypdys57ms__4dsnj3xgp0c0006y5/T/ipykernel_37069/1612894569.py:11: SerializationWarning: saving variable longitude with floating point data as an integer dtype without any _FillValue to use for NaNs\n",
      "  ds_area.to_netcdf(output_name)\n"
     ]
    },
    {
     "name": "stdout",
     "output_type": "stream",
     "text": [
      "821\n",
      "SWOT_L3_LR_SSH_Expert_577_026_20230710T031426_20230710T040531_v0.1.nc\n"
     ]
    },
    {
     "name": "stderr",
     "output_type": "stream",
     "text": [
      "/usr/local/lib/python3.11/site-packages/xarray/coding/times.py:618: RuntimeWarning: invalid value encountered in cast\n",
      "  int_num = np.asarray(num, dtype=np.int64)\n",
      "/var/folders/9d/qyypdys57ms__4dsnj3xgp0c0006y5/T/ipykernel_37069/1612894569.py:11: SerializationWarning: saving variable latitude with floating point data as an integer dtype without any _FillValue to use for NaNs\n",
      "  ds_area.to_netcdf(output_name)\n",
      "/var/folders/9d/qyypdys57ms__4dsnj3xgp0c0006y5/T/ipykernel_37069/1612894569.py:11: SerializationWarning: saving variable longitude with floating point data as an integer dtype without any _FillValue to use for NaNs\n",
      "  ds_area.to_netcdf(output_name)\n"
     ]
    },
    {
     "name": "stdout",
     "output_type": "stream",
     "text": [
      "834\n",
      "SWOT_L3_LR_SSH_Expert_578_011_20230710T141839_20230710T150944_v0.1.nc\n"
     ]
    }
   ],
   "source": [
    "for i in range(num_files_expert):\n",
    "    half_orbit_expert = os.path.join(add_1day_expert,list_dir_expert[i])\n",
    "    ds_expert = xr.open_dataset(half_orbit_expert) \n",
    "    selection = ((ds_expert.longitude > area[0])&(ds_expert.longitude < area[1])&(ds_expert.latitude > area[2])&(ds_expert.latitude < area[3]))\n",
    "    index = np.transpose(selection.values.nonzero())\n",
    "    if len(index)>0:\n",
    "        cycle_num = list_dir_expert[i][22:25]\n",
    "        pass_num =  list_dir_expert[i][26:29]\n",
    "        ds_area = ds_expert.where(selection, drop = True)\n",
    "        output_name = \"\".join([add_Foundation, 'Foundation_Expert_',cycle_num, '_', pass_num, '.nc'])\n",
    "        ds_area.to_netcdf(output_name)\n",
    "        print (i)\n",
    "        print(list_dir_expert[i])"
   ]
  },
  {
   "cell_type": "code",
   "execution_count": null,
   "id": "e813f4cc",
   "metadata": {},
   "outputs": [],
   "source": []
  }
 ],
 "metadata": {
  "kernelspec": {
   "display_name": "Python 3 (ipykernel)",
   "language": "python",
   "name": "python3"
  },
  "language_info": {
   "codemirror_mode": {
    "name": "ipython",
    "version": 3
   },
   "file_extension": ".py",
   "mimetype": "text/x-python",
   "name": "python",
   "nbconvert_exporter": "python",
   "pygments_lexer": "ipython3",
   "version": "3.11.5"
  }
 },
 "nbformat": 4,
 "nbformat_minor": 5
}
